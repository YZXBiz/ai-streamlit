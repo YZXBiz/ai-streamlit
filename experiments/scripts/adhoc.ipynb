{
 "cells": [
  {
   "cell_type": "code",
   "execution_count": 2,
   "id": "6c48d86e-8925-4863-a8a7-a90ee50319fc",
   "metadata": {},
   "outputs": [],
   "source": [
    "import pandas as pd\n",
    "from fsutils import run_sf_sql as rp"
   ]
  },
  {
   "cell_type": "code",
   "execution_count": 3,
   "id": "c5166fb6-cb93-47f8-9797-7a75ec87a5d8",
   "metadata": {},
   "outputs": [],
   "source": [
    "path = \"/home/jovyan/fsassortment/store_clustering/data/df_region.parquet\"\n",
    "df_need_states = pd.read_parquet(path)"
   ]
  },
  {
   "cell_type": "code",
   "execution_count": 4,
   "id": "599bd6b7-5ba0-41c4-bb26-b7c9931006d0",
   "metadata": {},
   "outputs": [],
   "source": [
    "# Define the mapping for time zones to regions\n",
    "time_zone_to_region = {\n",
    "    \"Mountain AZ\": \"west\",\n",
    "    \"Mountain\": \"west\",\n",
    "    \"Hawaii-Aleutian\": \"west\",\n",
    "    \"Pacific\": \"west\",\n",
    "    \"Alaska\": \"west\",\n",
    "    \"Eastern\": \"non_west\",\n",
    "    \"Central\": \"non_west\",\n",
    "    \"Atlantic-PR\": \"non_west\",\n",
    "}\n",
    "\n",
    "# Map the time zones to regions in df_need_states\n",
    "df_need_states[\"region\"] = df_need_states[\"TIME_ZONE_ID\"].map(time_zone_to_region)\n",
    "\n",
    "# Handle cases where the time zone is not in the mapping\n",
    "df_need_states[\"region\"] = df_need_states[\"region\"].fillna(\"unknown\")\n",
    "# lower case\n",
    "# Convert all column names to lowercase\n",
    "df_need_states.columns = df_need_states.columns.str.lower()"
   ]
  },
  {
   "cell_type": "code",
   "execution_count": 5,
   "id": "9a6da624-eb1c-4d8a-9033-0cc6a8856e03",
   "metadata": {},
   "outputs": [],
   "source": [
    "path_temp = \"/home/jovyan/fsassortment/store_clustering/merged_content_all/Merged_Clustering_Output_Run_All_20250403_1737/merged_clusters_FIRST_AID_20250403_1728_FIRST_AID_20250403_1729_ALL_20250403_1738.csv\""
   ]
  },
  {
   "cell_type": "code",
   "execution_count": 6,
   "id": "d8b0cbf2-f240-4583-8e48-e796f4f46ada",
   "metadata": {},
   "outputs": [],
   "source": [
    "final_df_all = pd.read_csv(path_temp)"
   ]
  },
  {
   "cell_type": "code",
   "execution_count": 7,
   "id": "a8ca6d27-a0cb-4a82-bdf0-2f9ca7f66147",
   "metadata": {},
   "outputs": [],
   "source": [
    "final_df_all = pd.merge(final_df_all, df_need_states, on=\"store_nbr\")"
   ]
  },
  {
   "cell_type": "code",
   "execution_count": 8,
   "id": "56e84f62-27b4-4cbf-bb05-44d9e779d71c",
   "metadata": {},
   "outputs": [],
   "source": [
    "final_df_all[\"rebalanced_demand_cluster_labels\"] = (\n",
    "    final_df_all[\"rebalanced_demand_cluster_labels\"] + \"_\" + final_df_all[\"region\"]\n",
    ")"
   ]
  },
  {
   "cell_type": "code",
   "execution_count": 12,
   "id": "4ee7ea21-d51f-4a8b-a447-8d26384ea5ce",
   "metadata": {},
   "outputs": [
    {
     "data": {
      "text/plain": [
       "0       FIRST_AID_20250403_1729\n",
       "1       FIRST_AID_20250403_1729\n",
       "2       FIRST_AID_20250403_1729\n",
       "3       FIRST_AID_20250403_1729\n",
       "4       FIRST_AID_20250403_1729\n",
       "                 ...           \n",
       "6830    FIRST_AID_20250403_1729\n",
       "6831    FIRST_AID_20250403_1729\n",
       "6832    FIRST_AID_20250403_1729\n",
       "6833    FIRST_AID_20250403_1729\n",
       "6834    FIRST_AID_20250403_1729\n",
       "Name: external_granularity, Length: 6835, dtype: object"
      ]
     },
     "execution_count": 12,
     "metadata": {},
     "output_type": "execute_result"
    }
   ],
   "source": [
    "final_df_all[\"external_granularity\"]"
   ]
  },
  {
   "cell_type": "code",
   "execution_count": null,
   "id": "eb440564-fb03-4e38-88ed-b16b1362301e",
   "metadata": {},
   "outputs": [],
   "source": []
  }
 ],
 "metadata": {
  "kernelspec": {
   "display_name": "Python 3 (ipykernel)",
   "language": "python",
   "name": "python3"
  },
  "language_info": {
   "codemirror_mode": {
    "name": "ipython",
    "version": 3
   },
   "file_extension": ".py",
   "mimetype": "text/x-python",
   "name": "python",
   "nbconvert_exporter": "python",
   "pygments_lexer": "ipython3",
   "version": "3.9.10"
  }
 },
 "nbformat": 4,
 "nbformat_minor": 5
}
