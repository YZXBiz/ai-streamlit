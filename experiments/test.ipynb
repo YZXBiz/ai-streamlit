{
 "cells": [
  {
   "cell_type": "code",
   "execution_count": 3,
   "metadata": {},
   "outputs": [
    {
     "ename": "IndexError",
     "evalue": "list index out of range",
     "output_type": "error",
     "traceback": [
      "\u001b[0;31m---------------------------------------------------------------------------\u001b[0m",
      "\u001b[0;31mIndexError\u001b[0m                                Traceback (most recent call last)",
      "Cell \u001b[0;32mIn[3], line 5\u001b[0m\n\u001b[1;32m      2\u001b[0m \u001b[38;5;28;01mimport\u001b[39;00m\u001b[38;5;250m \u001b[39m\u001b[38;5;21;01mpandas\u001b[39;00m\u001b[38;5;250m \u001b[39m\u001b[38;5;28;01mas\u001b[39;00m\u001b[38;5;250m \u001b[39m\u001b[38;5;21;01mpd\u001b[39;00m \n\u001b[1;32m      4\u001b[0m \u001b[38;5;66;03m# Create an analyzer instance  \u001b[39;00m\n\u001b[0;32m----> 5\u001b[0m analyzer \u001b[38;5;241m=\u001b[39m \u001b[43mcreate_analyzer\u001b[49m\u001b[43m(\u001b[49m\u001b[43m)\u001b[49m  \n\u001b[1;32m      7\u001b[0m df \u001b[38;5;241m=\u001b[39m pd\u001b[38;5;241m.\u001b[39mDataFrame()\n\u001b[1;32m      9\u001b[0m \u001b[38;5;66;03m# Preview the data  \u001b[39;00m\n",
      "File \u001b[0;32m/workspaces/chatbot-assortment/backend/__init__.py:65\u001b[0m, in \u001b[0;36mcreate_analyzer\u001b[0;34m()\u001b[0m\n\u001b[1;32m     61\u001b[0m os\u001b[38;5;241m.\u001b[39mmakedirs(\u001b[38;5;124m\"\u001b[39m\u001b[38;5;124m./charts\u001b[39m\u001b[38;5;124m\"\u001b[39m, exist_ok\u001b[38;5;241m=\u001b[39m\u001b[38;5;28;01mTrue\u001b[39;00m)\n\u001b[1;32m     63\u001b[0m \u001b[38;5;66;03m# Create an empty agent with just configuration\u001b[39;00m\n\u001b[1;32m     64\u001b[0m \u001b[38;5;66;03m# We'll add dataframes later when they're loaded\u001b[39;00m\n\u001b[0;32m---> 65\u001b[0m agent \u001b[38;5;241m=\u001b[39m \u001b[43mAgent\u001b[49m\u001b[43m(\u001b[49m\n\u001b[1;32m     66\u001b[0m \u001b[43m    \u001b[49m\u001b[43mdfs\u001b[49m\u001b[38;5;241;43m=\u001b[39;49m\u001b[43m[\u001b[49m\u001b[43m]\u001b[49m\u001b[43m,\u001b[49m\u001b[43m  \u001b[49m\u001b[38;5;66;43;03m# Start with empty dataframes list\u001b[39;49;00m\n\u001b[1;32m     67\u001b[0m \u001b[43m    \u001b[49m\u001b[43mconfig\u001b[49m\u001b[38;5;241;43m=\u001b[39;49m\u001b[43mconfig\u001b[49m\u001b[43m,\u001b[49m\n\u001b[1;32m     68\u001b[0m \u001b[43m    \u001b[49m\u001b[43mmemory_size\u001b[49m\u001b[38;5;241;43m=\u001b[39;49m\u001b[38;5;241;43m10\u001b[39;49m\u001b[43m,\u001b[49m\n\u001b[1;32m     69\u001b[0m \u001b[43m\u001b[49m\u001b[43m)\u001b[49m\n\u001b[1;32m     71\u001b[0m \u001b[38;5;66;03m# Add dataframe manager for convenience\u001b[39;00m\n\u001b[1;32m     72\u001b[0m agent\u001b[38;5;241m.\u001b[39mdataframe_manager \u001b[38;5;241m=\u001b[39m {\n\u001b[1;32m     73\u001b[0m     \u001b[38;5;124m\"\u001b[39m\u001b[38;5;124mregister_dataframe\u001b[39m\u001b[38;5;124m\"\u001b[39m: \u001b[38;5;28;01mlambda\u001b[39;00m df, name, description\u001b[38;5;241m=\u001b[39m\u001b[38;5;124m\"\u001b[39m\u001b[38;5;124m\"\u001b[39m: agent\u001b[38;5;241m.\u001b[39madd_data(df, name\u001b[38;5;241m=\u001b[39mname)\n\u001b[1;32m     74\u001b[0m     \u001b[38;5;28;01mif\u001b[39;00m \u001b[38;5;28mhasattr\u001b[39m(agent, \u001b[38;5;124m\"\u001b[39m\u001b[38;5;124madd_data\u001b[39m\u001b[38;5;124m\"\u001b[39m)\n\u001b[1;32m     75\u001b[0m     \u001b[38;5;28;01melse\u001b[39;00m \u001b[38;5;28;01mNone\u001b[39;00m\n\u001b[1;32m     76\u001b[0m }\n",
      "File \u001b[0;32m/workspaces/chatbot-assortment/.venv/lib/python3.10/site-packages/pandasai/agent/base.py:70\u001b[0m, in \u001b[0;36mAgent.__init__\u001b[0;34m(self, dfs, config, memory_size, vectorstore, description, sandbox)\u001b[0m\n\u001b[1;32m     68\u001b[0m \u001b[38;5;28;01mif\u001b[39;00m \u001b[38;5;28misinstance\u001b[39m(dfs, \u001b[38;5;28mlist\u001b[39m):\n\u001b[1;32m     69\u001b[0m     sources \u001b[38;5;241m=\u001b[39m [df\u001b[38;5;241m.\u001b[39mschema\u001b[38;5;241m.\u001b[39msource \u001b[38;5;129;01mor\u001b[39;00m df\u001b[38;5;241m.\u001b[39m_loader\u001b[38;5;241m.\u001b[39msource \u001b[38;5;28;01mfor\u001b[39;00m df \u001b[38;5;129;01min\u001b[39;00m dfs]\n\u001b[0;32m---> 70\u001b[0m     \u001b[38;5;28;01mif\u001b[39;00m \u001b[38;5;129;01mnot\u001b[39;00m \u001b[43mBaseQueryBuilder\u001b[49m\u001b[38;5;241;43m.\u001b[39;49m\u001b[43mcheck_compatible_sources\u001b[49m\u001b[43m(\u001b[49m\u001b[43msources\u001b[49m\u001b[43m)\u001b[49m:\n\u001b[1;32m     71\u001b[0m         \u001b[38;5;28;01mraise\u001b[39;00m \u001b[38;5;167;01mValueError\u001b[39;00m(\n\u001b[1;32m     72\u001b[0m             \u001b[38;5;124mf\u001b[39m\u001b[38;5;124m\"\u001b[39m\u001b[38;5;124mThe sources of these datasets: \u001b[39m\u001b[38;5;132;01m{\u001b[39;00mdfs\u001b[38;5;132;01m}\u001b[39;00m\u001b[38;5;124m are not compatibles\u001b[39m\u001b[38;5;124m\"\u001b[39m\n\u001b[1;32m     73\u001b[0m         )\n\u001b[1;32m     75\u001b[0m \u001b[38;5;28mself\u001b[39m\u001b[38;5;241m.\u001b[39mdescription \u001b[38;5;241m=\u001b[39m description\n",
      "File \u001b[0;32m/workspaces/chatbot-assortment/.venv/lib/python3.10/site-packages/pandasai/query_builders/base_query_builder.py:107\u001b[0m, in \u001b[0;36mBaseQueryBuilder.check_compatible_sources\u001b[0;34m(sources)\u001b[0m\n\u001b[1;32m    105\u001b[0m \u001b[38;5;129m@staticmethod\u001b[39m\n\u001b[1;32m    106\u001b[0m \u001b[38;5;28;01mdef\u001b[39;00m\u001b[38;5;250m \u001b[39m\u001b[38;5;21mcheck_compatible_sources\u001b[39m(sources: List[Source]) \u001b[38;5;241m-\u001b[39m\u001b[38;5;241m>\u001b[39m \u001b[38;5;28mbool\u001b[39m:\n\u001b[0;32m--> 107\u001b[0m     base_source \u001b[38;5;241m=\u001b[39m \u001b[43msources\u001b[49m\u001b[43m[\u001b[49m\u001b[38;5;241;43m0\u001b[39;49m\u001b[43m]\u001b[49m\n\u001b[1;32m    108\u001b[0m     \u001b[38;5;28;01mreturn\u001b[39;00m \u001b[38;5;28mall\u001b[39m(base_source\u001b[38;5;241m.\u001b[39mis_compatible_source(source) \u001b[38;5;28;01mfor\u001b[39;00m source \u001b[38;5;129;01min\u001b[39;00m sources[\u001b[38;5;241m1\u001b[39m:])\n",
      "\u001b[0;31mIndexError\u001b[0m: list index out of range"
     ]
    }
   ],
   "source": [
    "from backend import create_analyzer  \n",
    "import pandas as pd \n",
    "\n",
    "# Create an analyzer instance  \n",
    "analyzer = create_analyzer()  \n",
    "  \n",
    "df = pd.DataFrame()\n",
    "  \n",
    "# Preview the data  \n",
    "preview = analyzer.get_dataframe_preview(\"my_data\", rows=5)  \n",
    "print(preview)  \n",
    "  \n",
    "# Get statistics about the data  \n",
    "stats = analyzer.get_dataframe_stats(\"my_data\")  \n",
    "print(stats)"
   ]
  },
  {
   "cell_type": "code",
   "execution_count": null,
   "metadata": {},
   "outputs": [],
   "source": [
    "from pandasai "
   ]
  }
 ],
 "metadata": {
  "kernelspec": {
   "display_name": ".venv",
   "language": "python",
   "name": "python3"
  },
  "language_info": {
   "codemirror_mode": {
    "name": "ipython",
    "version": 3
   },
   "file_extension": ".py",
   "mimetype": "text/x-python",
   "name": "python",
   "nbconvert_exporter": "python",
   "pygments_lexer": "ipython3",
   "version": "3.10.17"
  }
 },
 "nbformat": 4,
 "nbformat_minor": 2
}
