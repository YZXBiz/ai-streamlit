{
 "cells": [
  {
   "cell_type": "code",
   "execution_count": 1,
   "metadata": {},
   "outputs": [],
   "source": [
    "import pandas as pd"
   ]
  },
  {
   "cell_type": "code",
   "execution_count": 7,
   "metadata": {},
   "outputs": [],
   "source": [
    "df = pd.read_pickle(\n",
    "    \"/workspaces/clustering-dagster/storage/external_assign_clusters\"\n",
    ")"
   ]
  },
  {
   "cell_type": "code",
   "execution_count": 10,
   "metadata": {},
   "outputs": [],
   "source": [
    "df = pd.read_pickle(\n",
    "    \"/workspaces/clustering-dagster/storage/internal_assign_clusters\"\n",
    ")"
   ]
  },
  {
   "cell_type": "code",
   "execution_count": 11,
   "metadata": {},
   "outputs": [
    {
     "data": {
      "text/plain": [
       "{}"
      ]
     },
     "execution_count": 11,
     "metadata": {},
     "output_type": "execute_result"
    }
   ],
   "source": [
    "df"
   ]
  },
  {
   "cell_type": "code",
   "execution_count": 9,
   "metadata": {},
   "outputs": [
    {
     "data": {
      "text/html": [
       "<div><style>\n",
       ".dataframe > thead > tr,\n",
       ".dataframe > tbody > tr {\n",
       "  text-align: right;\n",
       "  white-space: pre-wrap;\n",
       "}\n",
       "</style>\n",
       "<small>shape: (21, 78)</small><table border=\"1\" class=\"dataframe\"><thead><tr><th>STORE_NBR</th><th>year</th><th>avg_dwell_time</th><th>avg_visits_per_day</th><th>census_captured_avg_hhi</th><th>census_captured_by_education_advanced_degree</th><th>census_captured_by_education_bachelors_degree</th><th>census_captured_by_education_college_or_associates_degree</th><th>census_captured_by_education_elementary</th><th>census_captured_by_education_high_school</th><th>census_captured_by_hhi_100K_to_125K</th><th>census_captured_by_hhi_10K_to_15K</th><th>census_captured_by_hhi_125K_to_150K</th><th>census_captured_by_hhi_150K_to_200K</th><th>census_captured_by_hhi_15K_to_20K</th><th>census_captured_by_hhi_20K_to_25K</th><th>census_captured_by_hhi_25K_to_30K</th><th>census_captured_by_hhi_30K_to_35K</th><th>census_captured_by_hhi_35K_to_40K</th><th>census_captured_by_hhi_40K_to_45K</th><th>census_captured_by_hhi_45K_to_50K</th><th>census_captured_by_hhi_50K_to_60K</th><th>census_captured_by_hhi_60K_to_75K</th><th>census_captured_by_hhi_75K_to_100K</th><th>census_captured_by_hhi_less_than_10K</th><th>census_captured_by_hhi_more_than_200K</th><th>foottraffic</th><th>foottraffic_per_sqft</th><th>median_dwell_time</th><th>median_visits_per_day</th><th>unique_visitors</th><th>CVS ID</th><th>Drive Time Area</th><th>STREET_TXT</th><th>ZIP_CD</th><th>LATITUDE</th><th>LONGITUDE</th><th>&hellip;</th><th>2029 Median Age</th><th>2029 Total Population</th><th>2024 Average Food</th><th>2024 Average Housing</th><th>2024 Average Transportation</th><th>2029 Average Food</th><th>2029 Average Housing</th><th>2029 Average Transportation</th><th>Total Walmart</th><th>Total Walgreens</th><th>Total Target</th><th>Total Trader Joes</th><th>Total Whole Foods</th><th>CVS ID_right</th><th>Drive Time Area_right</th><th>STREET_TXT_right</th><th>ZIP_CD_right</th><th>LATITUDE_right</th><th>LONGITUDE_right</th><th>urbancity_simple_right</th><th>2024 Median Age_right</th><th>2024 Total Households_right</th><th>2024 Total Population_right</th><th>2029 Median Age_right</th><th>2029 Total Population_right</th><th>2024 Average Food_right</th><th>2024 Average Housing_right</th><th>2024 Average Transportation_right</th><th>2029 Average Food_right</th><th>2029 Average Housing_right</th><th>2029 Average Transportation_right</th><th>Total Walmart_right</th><th>Total Walgreens_right</th><th>Total Target_right</th><th>Total Trader Joes_right</th><th>Total Whole Foods_right</th><th>Cluster</th></tr><tr><td>i64</td><td>i64</td><td>f64</td><td>f64</td><td>f64</td><td>f64</td><td>f64</td><td>f64</td><td>f64</td><td>f64</td><td>f64</td><td>f64</td><td>f64</td><td>f64</td><td>f64</td><td>f64</td><td>f64</td><td>f64</td><td>f64</td><td>f64</td><td>f64</td><td>f64</td><td>f64</td><td>f64</td><td>f64</td><td>f64</td><td>i64</td><td>f64</td><td>f64</td><td>f64</td><td>i64</td><td>f64</td><td>str</td><td>str</td><td>f64</td><td>f64</td><td>f64</td><td>&hellip;</td><td>f64</td><td>f64</td><td>f64</td><td>f64</td><td>f64</td><td>f64</td><td>f64</td><td>f64</td><td>f64</td><td>f64</td><td>f64</td><td>f64</td><td>f64</td><td>i64</td><td>str</td><td>str</td><td>i64</td><td>f64</td><td>f64</td><td>str</td><td>i64</td><td>i64</td><td>i64</td><td>i64</td><td>i64</td><td>f64</td><td>f64</td><td>f64</td><td>f64</td><td>f64</td><td>f64</td><td>i64</td><td>i64</td><td>i64</td><td>i64</td><td>i64</td><td>str</td></tr></thead><tbody><tr><td>201</td><td>2024</td><td>14.591402</td><td>810.004302</td><td>84004.6909</td><td>300.889664</td><td>762.824093</td><td>709.029539</td><td>902.961611</td><td>178.244949</td><td>210.96091</td><td>14.89861</td><td>109.318987</td><td>252.677644</td><td>13.267985</td><td>99.418825</td><td>324.942219</td><td>272.47074</td><td>110.220311</td><td>294.632842</td><td>404.715228</td><td>3.24938</td><td>402.909626</td><td>349.069697</td><td>170.125258</td><td>77.73975</td><td>6514</td><td>0.191989</td><td>7.559128</td><td>4.230814</td><td>1908</td><td>7102.0</td><td>&quot;0 - 10&quot;</td><td>&quot;1860 FAKE STREET&quot;</td><td>86820.0</td><td>28.744447</td><td>-115.108312</td><td>&hellip;</td><td>46.0</td><td>6769.0</td><td>10888.0</td><td>29385.53</td><td>8003.89</td><td>12968.85</td><td>27174.82</td><td>11558.27</td><td>4.0</td><td>3.0</td><td>0.0</td><td>0.0</td><td>2.0</td><td>7102</td><td>&quot;0 - 10&quot;</td><td>&quot;1860 FAKE STREET&quot;</td><td>86820</td><td>28.744447</td><td>-115.108312</td><td>&quot;rural&quot;</td><td>35</td><td>9322</td><td>6685</td><td>46</td><td>6769</td><td>10888.0</td><td>29385.53</td><td>8003.89</td><td>12968.85</td><td>27174.82</td><td>11558.27</td><td>4</td><td>3</td><td>0</td><td>0</td><td>2</td><td>&quot;Cluster 1&quot;</td></tr><tr><td>202</td><td>2024</td><td>14.05589</td><td>1122.851309</td><td>156757.0859</td><td>582.605282</td><td>975.804188</td><td>440.680939</td><td>596.836568</td><td>846.464198</td><td>309.259876</td><td>430.85345</td><td>288.676073</td><td>352.285918</td><td>22.912192</td><td>113.949138</td><td>144.693982</td><td>39.895988</td><td>116.395443</td><td>50.500715</td><td>138.986802</td><td>317.842222</td><td>182.416089</td><td>185.090484</td><td>104.753515</td><td>133.488911</td><td>2169</td><td>0.648218</td><td>5.053664</td><td>7.562141</td><td>1169</td><td>7058.0</td><td>&quot;0 - 10&quot;</td><td>&quot;3558 FAKE STREET&quot;</td><td>28431.0</td><td>32.011472</td><td>-103.117375</td><td>&hellip;</td><td>48.0</td><td>7267.0</td><td>10369.66</td><td>20464.5</td><td>11037.72</td><td>9682.1</td><td>21650.52</td><td>13244.43</td><td>3.0</td><td>5.0</td><td>1.0</td><td>1.0</td><td>0.0</td><td>7058</td><td>&quot;0 - 10&quot;</td><td>&quot;3558 FAKE STREET&quot;</td><td>28431</td><td>32.011472</td><td>-103.117375</td><td>&quot;suburban&quot;</td><td>39</td><td>4005</td><td>6899</td><td>48</td><td>7267</td><td>10369.66</td><td>20464.5</td><td>11037.72</td><td>9682.1</td><td>21650.52</td><td>13244.43</td><td>3</td><td>5</td><td>1</td><td>1</td><td>0</td><td>&quot;Cluster 1&quot;</td></tr><tr><td>203</td><td>2024</td><td>11.933903</td><td>907.979131</td><td>188062.5887</td><td>719.345763</td><td>297.653657</td><td>391.854461</td><td>791.48222</td><td>150.344153</td><td>410.901297</td><td>402.5229</td><td>200.582394</td><td>33.094303</td><td>456.568062</td><td>283.590026</td><td>358.957135</td><td>106.313272</td><td>249.61563</td><td>442.341577</td><td>321.425935</td><td>71.435795</td><td>69.81516</td><td>372.494491</td><td>269.488645</td><td>373.506906</td><td>8019</td><td>0.908041</td><td>7.792806</td><td>2.973887</td><td>1066</td><td>7345.0</td><td>&quot;0 - 10&quot;</td><td>&quot;3612 FAKE STREET&quot;</td><td>33483.0</td><td>27.928918</td><td>-95.774916</td><td>&hellip;</td><td>43.0</td><td>9943.0</td><td>11021.45</td><td>24251.56</td><td>9039.71</td><td>11270.8</td><td>21313.13</td><td>12711.42</td><td>3.0</td><td>1.0</td><td>1.0</td><td>5.0</td><td>3.0</td><td>7345</td><td>&quot;0 - 10&quot;</td><td>&quot;3612 FAKE STREET&quot;</td><td>33483</td><td>27.928918</td><td>-95.774916</td><td>&quot;rural&quot;</td><td>27</td><td>4152</td><td>31531</td><td>43</td><td>9943</td><td>11021.45</td><td>24251.56</td><td>9039.71</td><td>11270.8</td><td>21313.13</td><td>12711.42</td><td>3</td><td>1</td><td>1</td><td>5</td><td>3</td><td>&quot;Cluster 0&quot;</td></tr><tr><td>204</td><td>2024</td><td>12.642894</td><td>836.363765</td><td>47538.6201</td><td>198.684217</td><td>664.701438</td><td>812.871428</td><td>479.94397</td><td>157.174936</td><td>190.809643</td><td>498.06069</td><td>264.557173</td><td>485.539189</td><td>430.389851</td><td>5.740511</td><td>360.36091</td><td>340.855185</td><td>268.485165</td><td>133.412595</td><td>320.480899</td><td>55.776087</td><td>217.382625</td><td>226.861853</td><td>476.907964</td><td>437.92647</td><td>5315</td><td>0.974699</td><td>12.143546</td><td>5.569135</td><td>935</td><td>7269.0</td><td>&quot;0 - 10&quot;</td><td>&quot;8629 FAKE STREET&quot;</td><td>11016.0</td><td>48.068129</td><td>-75.861571</td><td>&hellip;</td><td>49.0</td><td>18185.0</td><td>11861.02</td><td>26070.34</td><td>9380.0</td><td>10185.09</td><td>22652.67</td><td>8578.18</td><td>0.0</td><td>0.0</td><td>3.0</td><td>2.0</td><td>2.0</td><td>7269</td><td>&quot;0 - 10&quot;</td><td>&quot;8629 FAKE STREET&quot;</td><td>11016</td><td>48.068129</td><td>-75.861571</td><td>&quot;urban&quot;</td><td>42</td><td>1878</td><td>14268</td><td>49</td><td>18185</td><td>11861.02</td><td>26070.34</td><td>9380.0</td><td>10185.09</td><td>22652.67</td><td>8578.18</td><td>0</td><td>0</td><td>3</td><td>2</td><td>2</td><td>&quot;Cluster 0&quot;</td></tr><tr><td>205</td><td>2024</td><td>18.057779</td><td>919.377917</td><td>142231.9192</td><td>648.07319</td><td>237.555342</td><td>786.25972</td><td>585.441127</td><td>800.763831</td><td>265.176836</td><td>0.285948</td><td>162.078029</td><td>9.738371</td><td>464.549308</td><td>439.360939</td><td>415.832765</td><td>153.757063</td><td>28.962583</td><td>439.0048</td><td>473.474723</td><td>42.826726</td><td>242.995232</td><td>34.606259</td><td>380.301083</td><td>382.917215</td><td>3103</td><td>0.693776</td><td>14.362184</td><td>2.486143</td><td>2661</td><td>7592.0</td><td>&quot;0 - 10&quot;</td><td>&quot;1391 FAKE STREET&quot;</td><td>23986.0</td><td>43.964213</td><td>-89.460281</td><td>&hellip;</td><td>34.0</td><td>36535.0</td><td>9797.8</td><td>20954.1</td><td>9854.09</td><td>11675.37</td><td>27659.22</td><td>11456.49</td><td>5.0</td><td>2.0</td><td>2.0</td><td>0.0</td><td>2.0</td><td>7592</td><td>&quot;0 - 10&quot;</td><td>&quot;1391 FAKE STREET&quot;</td><td>23986</td><td>43.964213</td><td>-89.460281</td><td>&quot;suburban&quot;</td><td>31</td><td>7184</td><td>27662</td><td>34</td><td>36535</td><td>9797.8</td><td>20954.1</td><td>9854.09</td><td>11675.37</td><td>27659.22</td><td>11456.49</td><td>5</td><td>2</td><td>2</td><td>0</td><td>2</td><td>&quot;Cluster 1&quot;</td></tr><tr><td>&hellip;</td><td>&hellip;</td><td>&hellip;</td><td>&hellip;</td><td>&hellip;</td><td>&hellip;</td><td>&hellip;</td><td>&hellip;</td><td>&hellip;</td><td>&hellip;</td><td>&hellip;</td><td>&hellip;</td><td>&hellip;</td><td>&hellip;</td><td>&hellip;</td><td>&hellip;</td><td>&hellip;</td><td>&hellip;</td><td>&hellip;</td><td>&hellip;</td><td>&hellip;</td><td>&hellip;</td><td>&hellip;</td><td>&hellip;</td><td>&hellip;</td><td>&hellip;</td><td>&hellip;</td><td>&hellip;</td><td>&hellip;</td><td>&hellip;</td><td>&hellip;</td><td>&hellip;</td><td>&hellip;</td><td>&hellip;</td><td>&hellip;</td><td>&hellip;</td><td>&hellip;</td><td>&hellip;</td><td>&hellip;</td><td>&hellip;</td><td>&hellip;</td><td>&hellip;</td><td>&hellip;</td><td>&hellip;</td><td>&hellip;</td><td>&hellip;</td><td>&hellip;</td><td>&hellip;</td><td>&hellip;</td><td>&hellip;</td><td>&hellip;</td><td>&hellip;</td><td>&hellip;</td><td>&hellip;</td><td>&hellip;</td><td>&hellip;</td><td>&hellip;</td><td>&hellip;</td><td>&hellip;</td><td>&hellip;</td><td>&hellip;</td><td>&hellip;</td><td>&hellip;</td><td>&hellip;</td><td>&hellip;</td><td>&hellip;</td><td>&hellip;</td><td>&hellip;</td><td>&hellip;</td><td>&hellip;</td><td>&hellip;</td><td>&hellip;</td><td>&hellip;</td><td>&hellip;</td><td>&hellip;</td></tr><tr><td>217</td><td>2024</td><td>10.037713</td><td>1157.210733</td><td>52892.4252</td><td>235.747592</td><td>444.731763</td><td>237.52474</td><td>292.557589</td><td>473.381106</td><td>165.440696</td><td>232.962152</td><td>31.132855</td><td>416.445585</td><td>194.738406</td><td>384.897886</td><td>473.031017</td><td>9.765978</td><td>440.328336</td><td>287.845173</td><td>238.489866</td><td>471.370829</td><td>149.306326</td><td>194.993324</td><td>445.820771</td><td>417.864335</td><td>9818</td><td>0.772764</td><td>9.553588</td><td>6.4292733</td><td>1403</td><td>7837.0</td><td>&quot;0 - 10&quot;</td><td>&quot;4854 FAKE STREET&quot;</td><td>25338.0</td><td>28.049452</td><td>-94.232134</td><td>&hellip;</td><td>29.0</td><td>6876.0</td><td>8777.52</td><td>24113.54</td><td>11497.56</td><td>9553.41</td><td>22327.45</td><td>13347.68</td><td>1.0</td><td>5.0</td><td>2.0</td><td>0.0</td><td>2.0</td><td>7837</td><td>&quot;0 - 10&quot;</td><td>&quot;4854 FAKE STREET&quot;</td><td>25338</td><td>28.049452</td><td>-94.232134</td><td>&quot;urban&quot;</td><td>36</td><td>1004</td><td>26606</td><td>29</td><td>6876</td><td>8777.52</td><td>24113.54</td><td>11497.56</td><td>9553.41</td><td>22327.45</td><td>13347.68</td><td>1</td><td>5</td><td>2</td><td>0</td><td>2</td><td>&quot;Cluster 1&quot;</td></tr><tr><td>218</td><td>2024</td><td>12.323442</td><td>909.174125</td><td>117702.719</td><td>449.971483</td><td>701.986259</td><td>818.328092</td><td>751.76324</td><td>856.455097</td><td>459.77081</td><td>490.360989</td><td>267.061815</td><td>453.464431</td><td>295.946388</td><td>331.499878</td><td>41.973731</td><td>214.306385</td><td>433.425678</td><td>90.864513</td><td>130.078157</td><td>163.676333</td><td>227.349663</td><td>168.750274</td><td>439.819993</td><td>139.128308</td><td>7906</td><td>0.327044</td><td>3.982875</td><td>1.17445</td><td>2709</td><td>7603.0</td><td>&quot;0 - 10&quot;</td><td>&quot;6177 FAKE STREET&quot;</td><td>35945.0</td><td>25.608418</td><td>-69.12904</td><td>&hellip;</td><td>26.0</td><td>7081.0</td><td>11660.85</td><td>24423.52</td><td>9198.94</td><td>9375.49</td><td>22828.66</td><td>13173.07</td><td>0.0</td><td>4.0</td><td>4.0</td><td>5.0</td><td>4.0</td><td>7603</td><td>&quot;0 - 10&quot;</td><td>&quot;6177 FAKE STREET&quot;</td><td>35945</td><td>25.608418</td><td>-69.12904</td><td>&quot;rural&quot;</td><td>33</td><td>2931</td><td>14204</td><td>26</td><td>7081</td><td>11660.85</td><td>24423.52</td><td>9198.94</td><td>9375.49</td><td>22828.66</td><td>13173.07</td><td>0</td><td>4</td><td>4</td><td>5</td><td>4</td><td>&quot;Cluster 0&quot;</td></tr><tr><td>219</td><td>2024</td><td>5.781284</td><td>1180.767877</td><td>75875.5465</td><td>161.756533</td><td>961.557042</td><td>136.232324</td><td>127.926999</td><td>322.554973</td><td>419.614423</td><td>310.667828</td><td>119.272471</td><td>236.78053</td><td>57.194723</td><td>473.878511</td><td>232.516992</td><td>128.121848</td><td>184.447587</td><td>302.946346</td><td>481.867372</td><td>359.178614</td><td>388.895943</td><td>81.882905</td><td>155.51946</td><td>289.342366</td><td>6111</td><td>0.618217</td><td>13.896314</td><td>4.377763</td><td>1312</td><td>7246.0</td><td>&quot;0 - 10&quot;</td><td>&quot;9130 FAKE STREET&quot;</td><td>95067.0</td><td>38.584893</td><td>-114.957152</td><td>&hellip;</td><td>42.0</td><td>36445.0</td><td>11918.04</td><td>21753.3</td><td>8085.81</td><td>12053.46</td><td>29069.13</td><td>10231.52</td><td>5.0</td><td>5.0</td><td>4.0</td><td>1.0</td><td>1.0</td><td>7246</td><td>&quot;0 - 10&quot;</td><td>&quot;9130 FAKE STREET&quot;</td><td>95067</td><td>38.584893</td><td>-114.957152</td><td>&quot;suburban&quot;</td><td>49</td><td>6188</td><td>49078</td><td>42</td><td>36445</td><td>11918.04</td><td>21753.3</td><td>8085.81</td><td>12053.46</td><td>29069.13</td><td>10231.52</td><td>5</td><td>5</td><td>4</td><td>1</td><td>1</td><td>&quot;Cluster 0&quot;</td></tr><tr><td>220</td><td>2024</td><td>6.139947</td><td>1076.245766</td><td>140358.7833</td><td>191.711175</td><td>795.232796</td><td>865.263915</td><td>640.370453</td><td>208.949559</td><td>491.922176</td><td>391.317673</td><td>173.601883</td><td>214.189007</td><td>185.285438</td><td>252.980395</td><td>170.615587</td><td>424.787813</td><td>411.165459</td><td>52.769435</td><td>480.393784</td><td>317.792553</td><td>414.353656</td><td>353.654322</td><td>217.743573</td><td>366.897652</td><td>5425</td><td>0.654321</td><td>14.035412</td><td>7.971773</td><td>2404</td><td>7757.0</td><td>&quot;0 - 10&quot;</td><td>&quot;3849 FAKE STREET&quot;</td><td>50158.0</td><td>25.367309</td><td>-70.79413</td><td>&hellip;</td><td>49.0</td><td>44646.0</td><td>11777.01</td><td>28671.99</td><td>11182.02</td><td>12203.8</td><td>27771.68</td><td>11366.84</td><td>0.0</td><td>0.0</td><td>4.0</td><td>2.0</td><td>2.0</td><td>7757</td><td>&quot;0 - 10&quot;</td><td>&quot;3849 FAKE STREET&quot;</td><td>50158</td><td>25.367309</td><td>-70.79413</td><td>&quot;urban&quot;</td><td>48</td><td>5611</td><td>32663</td><td>49</td><td>44646</td><td>11777.01</td><td>28671.99</td><td>11182.02</td><td>12203.8</td><td>27771.68</td><td>11366.84</td><td>0</td><td>0</td><td>4</td><td>2</td><td>2</td><td>&quot;Cluster 1&quot;</td></tr><tr><td>206</td><td>2024</td><td>18.086496</td><td>969.255176</td><td>73887.7129</td><td>585.36648</td><td>756.937962</td><td>281.035957</td><td>380.544662</td><td>995.634421</td><td>324.939029</td><td>219.050042</td><td>258.787921</td><td>60.502098</td><td>112.348669</td><td>169.042781</td><td>294.154359</td><td>115.057366</td><td>110.108692</td><td>35.496543</td><td>315.551479</td><td>114.470892</td><td>452.710007</td><td>429.8177</td><td>35.428675</td><td>119.002317</td><td>8953</td><td>0.292813</td><td>4.587742</td><td>9.419628</td><td>2838</td><td>null</td><td>null</td><td>null</td><td>null</td><td>null</td><td>null</td><td>&hellip;</td><td>null</td><td>null</td><td>null</td><td>null</td><td>null</td><td>null</td><td>null</td><td>null</td><td>null</td><td>null</td><td>null</td><td>null</td><td>null</td><td>7612</td><td>&quot;0 - 10&quot;</td><td>&quot;9110 FAKE STREET&quot;</td><td>89309</td><td>45.373932</td><td>-82.861417</td><td>&quot;rural&quot;</td><td>38</td><td>7938</td><td>5206</td><td>40</td><td>28361</td><td>8101.68</td><td>21078.91</td><td>8157.15</td><td>11545.64</td><td>24143.56</td><td>11042.85</td><td>5</td><td>4</td><td>4</td><td>2</td><td>4</td><td>&quot;Cluster 2&quot;</td></tr></tbody></table></div>"
      ],
      "text/plain": [
       "shape: (21, 78)\n",
       "┌───────────┬──────┬────────────┬────────────┬───┬────────────┬────────────┬───────────┬───────────┐\n",
       "│ STORE_NBR ┆ year ┆ avg_dwell_ ┆ avg_visits ┆ … ┆ Total Targ ┆ Total      ┆ Total     ┆ Cluster   │\n",
       "│ ---       ┆ ---  ┆ time       ┆ _per_day   ┆   ┆ et_right   ┆ Trader     ┆ Whole Foo ┆ ---       │\n",
       "│ i64       ┆ i64  ┆ ---        ┆ ---        ┆   ┆ ---        ┆ Joes_right ┆ ds_right  ┆ str       │\n",
       "│           ┆      ┆ f64        ┆ f64        ┆   ┆ i64        ┆ ---        ┆ ---       ┆           │\n",
       "│           ┆      ┆            ┆            ┆   ┆            ┆ i64        ┆ i64       ┆           │\n",
       "╞═══════════╪══════╪════════════╪════════════╪═══╪════════════╪════════════╪═══════════╪═══════════╡\n",
       "│ 201       ┆ 2024 ┆ 14.591402  ┆ 810.004302 ┆ … ┆ 0          ┆ 0          ┆ 2         ┆ Cluster 1 │\n",
       "│ 202       ┆ 2024 ┆ 14.05589   ┆ 1122.85130 ┆ … ┆ 1          ┆ 1          ┆ 0         ┆ Cluster 1 │\n",
       "│           ┆      ┆            ┆ 9          ┆   ┆            ┆            ┆           ┆           │\n",
       "│ 203       ┆ 2024 ┆ 11.933903  ┆ 907.979131 ┆ … ┆ 1          ┆ 5          ┆ 3         ┆ Cluster 0 │\n",
       "│ 204       ┆ 2024 ┆ 12.642894  ┆ 836.363765 ┆ … ┆ 3          ┆ 2          ┆ 2         ┆ Cluster 0 │\n",
       "│ 205       ┆ 2024 ┆ 18.057779  ┆ 919.377917 ┆ … ┆ 2          ┆ 0          ┆ 2         ┆ Cluster 1 │\n",
       "│ …         ┆ …    ┆ …          ┆ …          ┆ … ┆ …          ┆ …          ┆ …         ┆ …         │\n",
       "│ 217       ┆ 2024 ┆ 10.037713  ┆ 1157.21073 ┆ … ┆ 2          ┆ 0          ┆ 2         ┆ Cluster 1 │\n",
       "│           ┆      ┆            ┆ 3          ┆   ┆            ┆            ┆           ┆           │\n",
       "│ 218       ┆ 2024 ┆ 12.323442  ┆ 909.174125 ┆ … ┆ 4          ┆ 5          ┆ 4         ┆ Cluster 0 │\n",
       "│ 219       ┆ 2024 ┆ 5.781284   ┆ 1180.76787 ┆ … ┆ 4          ┆ 1          ┆ 1         ┆ Cluster 0 │\n",
       "│           ┆      ┆            ┆ 7          ┆   ┆            ┆            ┆           ┆           │\n",
       "│ 220       ┆ 2024 ┆ 6.139947   ┆ 1076.24576 ┆ … ┆ 4          ┆ 2          ┆ 2         ┆ Cluster 1 │\n",
       "│           ┆      ┆            ┆ 6          ┆   ┆            ┆            ┆           ┆           │\n",
       "│ 206       ┆ 2024 ┆ 18.086496  ┆ 969.255176 ┆ … ┆ 4          ┆ 2          ┆ 4         ┆ Cluster 2 │\n",
       "└───────────┴──────┴────────────┴────────────┴───┴────────────┴────────────┴───────────┴───────────┘"
      ]
     },
     "execution_count": 9,
     "metadata": {},
     "output_type": "execute_result"
    }
   ],
   "source": [
    "df"
   ]
  },
  {
   "cell_type": "code",
   "execution_count": 16,
   "metadata": {},
   "outputs": [],
   "source": [
    "df_sales = pd.read_pickle(\"/workspaces/clustering-dagster/data/internal/sales_by_category.pkl\")"
   ]
  },
  {
   "cell_type": "code",
   "execution_count": 17,
   "metadata": {},
   "outputs": [
    {
     "data": {
      "text/html": [
       "<div><style>\n",
       ".dataframe > thead > tr,\n",
       ".dataframe > tbody > tr {\n",
       "  text-align: right;\n",
       "  white-space: pre-wrap;\n",
       "}\n",
       "</style>\n",
       "<small>shape: (3, 13)</small><table border=\"1\" class=\"dataframe\"><thead><tr><th>STORE_NBR</th><th>% Sales CONVENIENCE_2</th><th>% Sales WELLNESS_3</th><th>% Sales WELLNESS_2</th><th>% Sales HEALTH_3</th><th>% Sales HEALTH_0</th><th>% Sales WELLNESS_0</th><th>% Sales WELLNESS_1</th><th>% Sales HEALTH_1</th><th>% Sales CONVENIENCE_0</th><th>% Sales CONVENIENCE_3</th><th>% Sales CONVENIENCE_1</th><th>% Sales HEALTH_2</th></tr><tr><td>i64</td><td>f64</td><td>f64</td><td>f64</td><td>f64</td><td>f64</td><td>f64</td><td>f64</td><td>f64</td><td>f64</td><td>f64</td><td>f64</td><td>f64</td></tr></thead><tbody><tr><td>203</td><td>17.47</td><td>36.07</td><td>3.34</td><td>0.0</td><td>0.0</td><td>6.18</td><td>14.96</td><td>0.0</td><td>0.0</td><td>3.77</td><td>18.21</td><td>0.0</td></tr><tr><td>202</td><td>0.0</td><td>11.2</td><td>5.93</td><td>7.71</td><td>55.99</td><td>5.73</td><td>13.42</td><td>0.0</td><td>0.0</td><td>0.0</td><td>0.0</td><td>0.0</td></tr><tr><td>201</td><td>1.72</td><td>0.0</td><td>0.0</td><td>15.44</td><td>25.04</td><td>0.0</td><td>0.0</td><td>15.65</td><td>17.91</td><td>0.0</td><td>4.18</td><td>20.07</td></tr></tbody></table></div>"
      ],
      "text/plain": [
       "shape: (3, 13)\n",
       "┌───────────┬───────────┬───────────┬───────────┬───┬───────────┬───────────┬───────────┬──────────┐\n",
       "│ STORE_NBR ┆ % Sales   ┆ % Sales   ┆ % Sales   ┆ … ┆ % Sales   ┆ % Sales   ┆ % Sales   ┆ % Sales  │\n",
       "│ ---       ┆ CONVENIEN ┆ WELLNESS_ ┆ WELLNESS_ ┆   ┆ CONVENIEN ┆ CONVENIEN ┆ CONVENIEN ┆ HEALTH_2 │\n",
       "│ i64       ┆ CE_2      ┆ 3         ┆ 2         ┆   ┆ CE_0      ┆ CE_3      ┆ CE_1      ┆ ---      │\n",
       "│           ┆ ---       ┆ ---       ┆ ---       ┆   ┆ ---       ┆ ---       ┆ ---       ┆ f64      │\n",
       "│           ┆ f64       ┆ f64       ┆ f64       ┆   ┆ f64       ┆ f64       ┆ f64       ┆          │\n",
       "╞═══════════╪═══════════╪═══════════╪═══════════╪═══╪═══════════╪═══════════╪═══════════╪══════════╡\n",
       "│ 203       ┆ 17.47     ┆ 36.07     ┆ 3.34      ┆ … ┆ 0.0       ┆ 3.77      ┆ 18.21     ┆ 0.0      │\n",
       "│ 202       ┆ 0.0       ┆ 11.2      ┆ 5.93      ┆ … ┆ 0.0       ┆ 0.0       ┆ 0.0       ┆ 0.0      │\n",
       "│ 201       ┆ 1.72      ┆ 0.0       ┆ 0.0       ┆ … ┆ 17.91     ┆ 0.0       ┆ 4.18      ┆ 20.07    │\n",
       "└───────────┴───────────┴───────────┴───────────┴───┴───────────┴───────────┴───────────┴──────────┘"
      ]
     },
     "execution_count": 17,
     "metadata": {},
     "output_type": "execute_result"
    }
   ],
   "source": [
    "df_sales[\"Beverages\"]"
   ]
  },
  {
   "cell_type": "code",
   "execution_count": 3,
   "metadata": {},
   "outputs": [],
   "source": [
    "df_fe = pd.read_pickle(\"/workspaces/clustering-dagster/storage/internal_fe_raw_data\")"
   ]
  },
  {
   "cell_type": "code",
   "execution_count": 4,
   "metadata": {},
   "outputs": [
    {
     "data": {
      "text/plain": [
       "{'model': KMeans(n_clusters=2, random_state=42),\n",
       " 'experiment_path': '/tmp/pycaret_internal_experiments_k011rrzv/Beauty_experiment',\n",
       " 'features': ['pca0'],\n",
       " 'num_clusters': 2,\n",
       " 'num_samples': 3,\n",
       " 'metrics': {'Silhouette': 0.6585000157356262,\n",
       "  'Calinski-Harabasz': 8817.694,\n",
       "  'Davies-Bouldin': 0.0061,\n",
       "  'Homogeneity': 0.0,\n",
       "  'Rand Index': 0.0,\n",
       "  'Completeness': 0.0}}"
      ]
     },
     "execution_count": 4,
     "metadata": {},
     "output_type": "execute_result"
    }
   ],
   "source": [
    "df[\"Beauty\"]"
   ]
  },
  {
   "cell_type": "code",
   "execution_count": 5,
   "metadata": {},
   "outputs": [
    {
     "data": {
      "text/html": [
       "<div>\n",
       "<style scoped>\n",
       "    .dataframe tbody tr th:only-of-type {\n",
       "        vertical-align: middle;\n",
       "    }\n",
       "\n",
       "    .dataframe tbody tr th {\n",
       "        vertical-align: top;\n",
       "    }\n",
       "\n",
       "    .dataframe thead th {\n",
       "        text-align: right;\n",
       "    }\n",
       "</style>\n",
       "<table border=\"1\" class=\"dataframe\">\n",
       "  <thead>\n",
       "    <tr style=\"text-align: right;\">\n",
       "      <th></th>\n",
       "      <th>STORE_NBR</th>\n",
       "      <th>% Sales CONVENIENCE_1</th>\n",
       "      <th>% Sales CONVENIENCE_3</th>\n",
       "      <th>% Sales CONVENIENCE_0</th>\n",
       "      <th>% Sales HEALTH_2</th>\n",
       "      <th>% Sales HEALTH_1</th>\n",
       "      <th>% Sales CONVENIENCE_2</th>\n",
       "      <th>% Sales HEALTH_3</th>\n",
       "      <th>% Sales WELLNESS_2</th>\n",
       "      <th>% Sales WELLNESS_1</th>\n",
       "      <th>% Sales HEALTH_0</th>\n",
       "      <th>% Sales WELLNESS_0</th>\n",
       "      <th>% Sales WELLNESS_3</th>\n",
       "    </tr>\n",
       "  </thead>\n",
       "  <tbody>\n",
       "    <tr>\n",
       "      <th>0</th>\n",
       "      <td>204</td>\n",
       "      <td>12.68</td>\n",
       "      <td>8.84</td>\n",
       "      <td>8.14</td>\n",
       "      <td>43.05</td>\n",
       "      <td>5.0</td>\n",
       "      <td>0.00</td>\n",
       "      <td>8.67</td>\n",
       "      <td>0.00</td>\n",
       "      <td>0.00</td>\n",
       "      <td>13.62</td>\n",
       "      <td>0.00</td>\n",
       "      <td>0.0</td>\n",
       "    </tr>\n",
       "    <tr>\n",
       "      <th>1</th>\n",
       "      <td>202</td>\n",
       "      <td>23.96</td>\n",
       "      <td>2.48</td>\n",
       "      <td>32.62</td>\n",
       "      <td>0.00</td>\n",
       "      <td>0.0</td>\n",
       "      <td>40.93</td>\n",
       "      <td>0.00</td>\n",
       "      <td>0.00</td>\n",
       "      <td>0.00</td>\n",
       "      <td>0.00</td>\n",
       "      <td>0.00</td>\n",
       "      <td>0.0</td>\n",
       "    </tr>\n",
       "    <tr>\n",
       "      <th>2</th>\n",
       "      <td>203</td>\n",
       "      <td>10.45</td>\n",
       "      <td>27.01</td>\n",
       "      <td>54.77</td>\n",
       "      <td>0.00</td>\n",
       "      <td>0.0</td>\n",
       "      <td>7.77</td>\n",
       "      <td>0.00</td>\n",
       "      <td>0.00</td>\n",
       "      <td>0.00</td>\n",
       "      <td>0.00</td>\n",
       "      <td>0.00</td>\n",
       "      <td>0.0</td>\n",
       "    </tr>\n",
       "    <tr>\n",
       "      <th>3</th>\n",
       "      <td>201</td>\n",
       "      <td>14.60</td>\n",
       "      <td>5.50</td>\n",
       "      <td>0.00</td>\n",
       "      <td>0.00</td>\n",
       "      <td>0.0</td>\n",
       "      <td>0.00</td>\n",
       "      <td>0.00</td>\n",
       "      <td>8.26</td>\n",
       "      <td>33.74</td>\n",
       "      <td>0.00</td>\n",
       "      <td>28.81</td>\n",
       "      <td>9.1</td>\n",
       "    </tr>\n",
       "  </tbody>\n",
       "</table>\n",
       "</div>"
      ],
      "text/plain": [
       "   STORE_NBR  % Sales CONVENIENCE_1  % Sales CONVENIENCE_3  \\\n",
       "0        204                  12.68                   8.84   \n",
       "1        202                  23.96                   2.48   \n",
       "2        203                  10.45                  27.01   \n",
       "3        201                  14.60                   5.50   \n",
       "\n",
       "   % Sales CONVENIENCE_0  % Sales HEALTH_2  % Sales HEALTH_1  \\\n",
       "0                   8.14             43.05               5.0   \n",
       "1                  32.62              0.00               0.0   \n",
       "2                  54.77              0.00               0.0   \n",
       "3                   0.00              0.00               0.0   \n",
       "\n",
       "   % Sales CONVENIENCE_2  % Sales HEALTH_3  % Sales WELLNESS_2  \\\n",
       "0                   0.00              8.67                0.00   \n",
       "1                  40.93              0.00                0.00   \n",
       "2                   7.77              0.00                0.00   \n",
       "3                   0.00              0.00                8.26   \n",
       "\n",
       "   % Sales WELLNESS_1  % Sales HEALTH_0  % Sales WELLNESS_0  \\\n",
       "0                0.00             13.62                0.00   \n",
       "1                0.00              0.00                0.00   \n",
       "2                0.00              0.00                0.00   \n",
       "3               33.74              0.00               28.81   \n",
       "\n",
       "   % Sales WELLNESS_3  \n",
       "0                 0.0  \n",
       "1                 0.0  \n",
       "2                 0.0  \n",
       "3                 9.1  "
      ]
     },
     "execution_count": 5,
     "metadata": {},
     "output_type": "execute_result"
    }
   ],
   "source": [
    "df_fe[\"Beauty\"].to_pandas()"
   ]
  },
  {
   "cell_type": "code",
   "execution_count": 6,
   "metadata": {},
   "outputs": [],
   "source": [
    "from pycaret.clustering import load_experiment"
   ]
  },
  {
   "cell_type": "code",
   "execution_count": 7,
   "metadata": {},
   "outputs": [],
   "source": [
    "exp = load_experiment(df[\"Beauty\"][\"experiment_path\"], data=df_fe[\"Beauty\"].to_pandas())"
   ]
  },
  {
   "cell_type": "code",
   "execution_count": 8,
   "metadata": {},
   "outputs": [
    {
     "ename": "ValueError",
     "evalue": "Length of values (3) does not match length of index (4)",
     "output_type": "error",
     "traceback": [
      "\u001b[0;31m---------------------------------------------------------------------------\u001b[0m",
      "\u001b[0;31mValueError\u001b[0m                                Traceback (most recent call last)",
      "Cell \u001b[0;32mIn[8], line 1\u001b[0m\n\u001b[0;32m----> 1\u001b[0m \u001b[43mexp\u001b[49m\u001b[38;5;241;43m.\u001b[39;49m\u001b[43massign_model\u001b[49m\u001b[43m(\u001b[49m\u001b[43mdf\u001b[49m\u001b[43m[\u001b[49m\u001b[38;5;124;43m'\u001b[39;49m\u001b[38;5;124;43mBeauty\u001b[39;49m\u001b[38;5;124;43m'\u001b[39;49m\u001b[43m]\u001b[49m\u001b[43m[\u001b[49m\u001b[38;5;124;43m'\u001b[39;49m\u001b[38;5;124;43mmodel\u001b[39;49m\u001b[38;5;124;43m'\u001b[39;49m\u001b[43m]\u001b[49m\u001b[43m)\u001b[49m\n",
      "File \u001b[0;32m/workspaces/clustering-dagster/.venv/lib/python3.10/site-packages/pycaret/internal/pycaret_experiment/unsupervised_experiment.py:834\u001b[0m, in \u001b[0;36m_UnsupervisedExperiment.assign_model\u001b[0;34m(self, model, transformation, score, verbose)\u001b[0m\n\u001b[1;32m    832\u001b[0m \u001b[38;5;28;01mif\u001b[39;00m \u001b[38;5;28mself\u001b[39m\u001b[38;5;241m.\u001b[39m_ml_usecase \u001b[38;5;241m==\u001b[39m MLUsecase\u001b[38;5;241m.\u001b[39mCLUSTERING:\n\u001b[1;32m    833\u001b[0m     labels \u001b[38;5;241m=\u001b[39m [\u001b[38;5;124mf\u001b[39m\u001b[38;5;124m\"\u001b[39m\u001b[38;5;124mCluster \u001b[39m\u001b[38;5;132;01m{\u001b[39;00mi\u001b[38;5;132;01m}\u001b[39;00m\u001b[38;5;124m\"\u001b[39m \u001b[38;5;28;01mfor\u001b[39;00m i \u001b[38;5;129;01min\u001b[39;00m model\u001b[38;5;241m.\u001b[39mlabels_]\n\u001b[0;32m--> 834\u001b[0m     \u001b[43mdata\u001b[49m\u001b[43m[\u001b[49m\u001b[38;5;124;43m\"\u001b[39;49m\u001b[38;5;124;43mCluster\u001b[39;49m\u001b[38;5;124;43m\"\u001b[39;49m\u001b[43m]\u001b[49m \u001b[38;5;241m=\u001b[39m labels\n\u001b[1;32m    835\u001b[0m \u001b[38;5;28;01melse\u001b[39;00m:\n\u001b[1;32m    836\u001b[0m     data[\u001b[38;5;124m\"\u001b[39m\u001b[38;5;124mAnomaly\u001b[39m\u001b[38;5;124m\"\u001b[39m] \u001b[38;5;241m=\u001b[39m model\u001b[38;5;241m.\u001b[39mlabels_\n",
      "File \u001b[0;32m/workspaces/clustering-dagster/.venv/lib/python3.10/site-packages/pandas/core/frame.py:4091\u001b[0m, in \u001b[0;36mDataFrame.__setitem__\u001b[0;34m(self, key, value)\u001b[0m\n\u001b[1;32m   4088\u001b[0m     \u001b[38;5;28mself\u001b[39m\u001b[38;5;241m.\u001b[39m_setitem_array([key], value)\n\u001b[1;32m   4089\u001b[0m \u001b[38;5;28;01melse\u001b[39;00m:\n\u001b[1;32m   4090\u001b[0m     \u001b[38;5;66;03m# set column\u001b[39;00m\n\u001b[0;32m-> 4091\u001b[0m     \u001b[38;5;28;43mself\u001b[39;49m\u001b[38;5;241;43m.\u001b[39;49m\u001b[43m_set_item\u001b[49m\u001b[43m(\u001b[49m\u001b[43mkey\u001b[49m\u001b[43m,\u001b[49m\u001b[43m \u001b[49m\u001b[43mvalue\u001b[49m\u001b[43m)\u001b[49m\n",
      "File \u001b[0;32m/workspaces/clustering-dagster/.venv/lib/python3.10/site-packages/pandas/core/frame.py:4300\u001b[0m, in \u001b[0;36mDataFrame._set_item\u001b[0;34m(self, key, value)\u001b[0m\n\u001b[1;32m   4290\u001b[0m \u001b[38;5;28;01mdef\u001b[39;00m\u001b[38;5;250m \u001b[39m\u001b[38;5;21m_set_item\u001b[39m(\u001b[38;5;28mself\u001b[39m, key, value) \u001b[38;5;241m-\u001b[39m\u001b[38;5;241m>\u001b[39m \u001b[38;5;28;01mNone\u001b[39;00m:\n\u001b[1;32m   4291\u001b[0m \u001b[38;5;250m    \u001b[39m\u001b[38;5;124;03m\"\"\"\u001b[39;00m\n\u001b[1;32m   4292\u001b[0m \u001b[38;5;124;03m    Add series to DataFrame in specified column.\u001b[39;00m\n\u001b[1;32m   4293\u001b[0m \n\u001b[0;32m   (...)\u001b[0m\n\u001b[1;32m   4298\u001b[0m \u001b[38;5;124;03m    ensure homogeneity.\u001b[39;00m\n\u001b[1;32m   4299\u001b[0m \u001b[38;5;124;03m    \"\"\"\u001b[39;00m\n\u001b[0;32m-> 4300\u001b[0m     value, refs \u001b[38;5;241m=\u001b[39m \u001b[38;5;28;43mself\u001b[39;49m\u001b[38;5;241;43m.\u001b[39;49m\u001b[43m_sanitize_column\u001b[49m\u001b[43m(\u001b[49m\u001b[43mvalue\u001b[49m\u001b[43m)\u001b[49m\n\u001b[1;32m   4302\u001b[0m     \u001b[38;5;28;01mif\u001b[39;00m (\n\u001b[1;32m   4303\u001b[0m         key \u001b[38;5;129;01min\u001b[39;00m \u001b[38;5;28mself\u001b[39m\u001b[38;5;241m.\u001b[39mcolumns\n\u001b[1;32m   4304\u001b[0m         \u001b[38;5;129;01mand\u001b[39;00m value\u001b[38;5;241m.\u001b[39mndim \u001b[38;5;241m==\u001b[39m \u001b[38;5;241m1\u001b[39m\n\u001b[1;32m   4305\u001b[0m         \u001b[38;5;129;01mand\u001b[39;00m \u001b[38;5;129;01mnot\u001b[39;00m \u001b[38;5;28misinstance\u001b[39m(value\u001b[38;5;241m.\u001b[39mdtype, ExtensionDtype)\n\u001b[1;32m   4306\u001b[0m     ):\n\u001b[1;32m   4307\u001b[0m         \u001b[38;5;66;03m# broadcast across multiple columns if necessary\u001b[39;00m\n\u001b[1;32m   4308\u001b[0m         \u001b[38;5;28;01mif\u001b[39;00m \u001b[38;5;129;01mnot\u001b[39;00m \u001b[38;5;28mself\u001b[39m\u001b[38;5;241m.\u001b[39mcolumns\u001b[38;5;241m.\u001b[39mis_unique \u001b[38;5;129;01mor\u001b[39;00m \u001b[38;5;28misinstance\u001b[39m(\u001b[38;5;28mself\u001b[39m\u001b[38;5;241m.\u001b[39mcolumns, MultiIndex):\n",
      "File \u001b[0;32m/workspaces/clustering-dagster/.venv/lib/python3.10/site-packages/pandas/core/frame.py:5039\u001b[0m, in \u001b[0;36mDataFrame._sanitize_column\u001b[0;34m(self, value)\u001b[0m\n\u001b[1;32m   5036\u001b[0m     \u001b[38;5;28;01mreturn\u001b[39;00m _reindex_for_setitem(value, \u001b[38;5;28mself\u001b[39m\u001b[38;5;241m.\u001b[39mindex)\n\u001b[1;32m   5038\u001b[0m \u001b[38;5;28;01mif\u001b[39;00m is_list_like(value):\n\u001b[0;32m-> 5039\u001b[0m     \u001b[43mcom\u001b[49m\u001b[38;5;241;43m.\u001b[39;49m\u001b[43mrequire_length_match\u001b[49m\u001b[43m(\u001b[49m\u001b[43mvalue\u001b[49m\u001b[43m,\u001b[49m\u001b[43m \u001b[49m\u001b[38;5;28;43mself\u001b[39;49m\u001b[38;5;241;43m.\u001b[39;49m\u001b[43mindex\u001b[49m\u001b[43m)\u001b[49m\n\u001b[1;32m   5040\u001b[0m \u001b[38;5;28;01mreturn\u001b[39;00m sanitize_array(value, \u001b[38;5;28mself\u001b[39m\u001b[38;5;241m.\u001b[39mindex, copy\u001b[38;5;241m=\u001b[39m\u001b[38;5;28;01mTrue\u001b[39;00m, allow_2d\u001b[38;5;241m=\u001b[39m\u001b[38;5;28;01mTrue\u001b[39;00m), \u001b[38;5;28;01mNone\u001b[39;00m\n",
      "File \u001b[0;32m/workspaces/clustering-dagster/.venv/lib/python3.10/site-packages/pandas/core/common.py:561\u001b[0m, in \u001b[0;36mrequire_length_match\u001b[0;34m(data, index)\u001b[0m\n\u001b[1;32m    557\u001b[0m \u001b[38;5;250m\u001b[39m\u001b[38;5;124;03m\"\"\"\u001b[39;00m\n\u001b[1;32m    558\u001b[0m \u001b[38;5;124;03mCheck the length of data matches the length of the index.\u001b[39;00m\n\u001b[1;32m    559\u001b[0m \u001b[38;5;124;03m\"\"\"\u001b[39;00m\n\u001b[1;32m    560\u001b[0m \u001b[38;5;28;01mif\u001b[39;00m \u001b[38;5;28mlen\u001b[39m(data) \u001b[38;5;241m!=\u001b[39m \u001b[38;5;28mlen\u001b[39m(index):\n\u001b[0;32m--> 561\u001b[0m     \u001b[38;5;28;01mraise\u001b[39;00m \u001b[38;5;167;01mValueError\u001b[39;00m(\n\u001b[1;32m    562\u001b[0m         \u001b[38;5;124m\"\u001b[39m\u001b[38;5;124mLength of values \u001b[39m\u001b[38;5;124m\"\u001b[39m\n\u001b[1;32m    563\u001b[0m         \u001b[38;5;124mf\u001b[39m\u001b[38;5;124m\"\u001b[39m\u001b[38;5;124m(\u001b[39m\u001b[38;5;132;01m{\u001b[39;00m\u001b[38;5;28mlen\u001b[39m(data)\u001b[38;5;132;01m}\u001b[39;00m\u001b[38;5;124m) \u001b[39m\u001b[38;5;124m\"\u001b[39m\n\u001b[1;32m    564\u001b[0m         \u001b[38;5;124m\"\u001b[39m\u001b[38;5;124mdoes not match length of index \u001b[39m\u001b[38;5;124m\"\u001b[39m\n\u001b[1;32m    565\u001b[0m         \u001b[38;5;124mf\u001b[39m\u001b[38;5;124m\"\u001b[39m\u001b[38;5;124m(\u001b[39m\u001b[38;5;132;01m{\u001b[39;00m\u001b[38;5;28mlen\u001b[39m(index)\u001b[38;5;132;01m}\u001b[39;00m\u001b[38;5;124m)\u001b[39m\u001b[38;5;124m\"\u001b[39m\n\u001b[1;32m    566\u001b[0m     )\n",
      "\u001b[0;31mValueError\u001b[0m: Length of values (3) does not match length of index (4)"
     ]
    }
   ],
   "source": [
    "exp.assign_model(df[\"Beauty\"][\"model\"])"
   ]
  },
  {
   "cell_type": "code",
   "execution_count": 40,
   "metadata": {},
   "outputs": [
    {
     "data": {
      "text/html": [
       "<div><style>\n",
       ".dataframe > thead > tr,\n",
       ".dataframe > tbody > tr {\n",
       "  text-align: right;\n",
       "  white-space: pre-wrap;\n",
       "}\n",
       "</style>\n",
       "<small>shape: (4, 13)</small><table border=\"1\" class=\"dataframe\"><thead><tr><th>STORE_NBR</th><th>% Sales CONVENIENCE_1</th><th>% Sales CONVENIENCE_3</th><th>% Sales CONVENIENCE_0</th><th>% Sales HEALTH_2</th><th>% Sales HEALTH_1</th><th>% Sales CONVENIENCE_2</th><th>% Sales HEALTH_3</th><th>% Sales WELLNESS_2</th><th>% Sales WELLNESS_1</th><th>% Sales HEALTH_0</th><th>% Sales WELLNESS_0</th><th>% Sales WELLNESS_3</th></tr><tr><td>i64</td><td>f64</td><td>f64</td><td>f64</td><td>f64</td><td>f64</td><td>f64</td><td>f64</td><td>f64</td><td>f64</td><td>f64</td><td>f64</td><td>f64</td></tr></thead><tbody><tr><td>204</td><td>12.68</td><td>8.84</td><td>8.14</td><td>43.05</td><td>5.0</td><td>0.0</td><td>8.67</td><td>0.0</td><td>0.0</td><td>13.62</td><td>0.0</td><td>0.0</td></tr><tr><td>202</td><td>23.96</td><td>2.48</td><td>32.62</td><td>0.0</td><td>0.0</td><td>40.93</td><td>0.0</td><td>0.0</td><td>0.0</td><td>0.0</td><td>0.0</td><td>0.0</td></tr><tr><td>203</td><td>10.45</td><td>27.01</td><td>54.77</td><td>0.0</td><td>0.0</td><td>7.77</td><td>0.0</td><td>0.0</td><td>0.0</td><td>0.0</td><td>0.0</td><td>0.0</td></tr><tr><td>201</td><td>14.6</td><td>5.5</td><td>0.0</td><td>0.0</td><td>0.0</td><td>0.0</td><td>0.0</td><td>8.26</td><td>33.74</td><td>0.0</td><td>28.81</td><td>9.1</td></tr></tbody></table></div>"
      ],
      "text/plain": [
       "shape: (4, 13)\n",
       "┌───────────┬───────────┬───────────┬───────────┬───┬───────────┬───────────┬───────────┬──────────┐\n",
       "│ STORE_NBR ┆ % Sales   ┆ % Sales   ┆ % Sales   ┆ … ┆ % Sales   ┆ % Sales   ┆ % Sales   ┆ % Sales  │\n",
       "│ ---       ┆ CONVENIEN ┆ CONVENIEN ┆ CONVENIEN ┆   ┆ WELLNESS_ ┆ HEALTH_0  ┆ WELLNESS_ ┆ WELLNESS │\n",
       "│ i64       ┆ CE_1      ┆ CE_3      ┆ CE_0      ┆   ┆ 1         ┆ ---       ┆ 0         ┆ _3       │\n",
       "│           ┆ ---       ┆ ---       ┆ ---       ┆   ┆ ---       ┆ f64       ┆ ---       ┆ ---      │\n",
       "│           ┆ f64       ┆ f64       ┆ f64       ┆   ┆ f64       ┆           ┆ f64       ┆ f64      │\n",
       "╞═══════════╪═══════════╪═══════════╪═══════════╪═══╪═══════════╪═══════════╪═══════════╪══════════╡\n",
       "│ 204       ┆ 12.68     ┆ 8.84      ┆ 8.14      ┆ … ┆ 0.0       ┆ 13.62     ┆ 0.0       ┆ 0.0      │\n",
       "│ 202       ┆ 23.96     ┆ 2.48      ┆ 32.62     ┆ … ┆ 0.0       ┆ 0.0       ┆ 0.0       ┆ 0.0      │\n",
       "│ 203       ┆ 10.45     ┆ 27.01     ┆ 54.77     ┆ … ┆ 0.0       ┆ 0.0       ┆ 0.0       ┆ 0.0      │\n",
       "│ 201       ┆ 14.6      ┆ 5.5       ┆ 0.0       ┆ … ┆ 33.74     ┆ 0.0       ┆ 28.81     ┆ 9.1      │\n",
       "└───────────┴───────────┴───────────┴───────────┴───┴───────────┴───────────┴───────────┴──────────┘"
      ]
     },
     "execution_count": 40,
     "metadata": {},
     "output_type": "execute_result"
    }
   ],
   "source": [
    "df_fe[\"Beauty\"]"
   ]
  },
  {
   "cell_type": "code",
   "execution_count": 15,
   "metadata": {},
   "outputs": [
    {
     "data": {
      "text/plain": [
       "'/tmp/pycaret_internal_experiments_g22wf5tj/Beauty_experiment'"
      ]
     },
     "execution_count": 15,
     "metadata": {},
     "output_type": "execute_result"
    }
   ],
   "source": [
    "df[\"Beauty\"][\"experiment_path\"]"
   ]
  },
  {
   "cell_type": "code",
   "execution_count": 7,
   "metadata": {},
   "outputs": [
    {
     "data": {
      "text/plain": [
       "{}"
      ]
     },
     "execution_count": 7,
     "metadata": {},
     "output_type": "execute_result"
    }
   ],
   "source": [
    "df"
   ]
  },
  {
   "cell_type": "code",
   "execution_count": 19,
   "metadata": {},
   "outputs": [],
   "source": [
    "df = pd.read_pickle(\"/workspaces/testing-dagster/data/internal/sales_by_category.pkl\")"
   ]
  },
  {
   "cell_type": "code",
   "execution_count": 22,
   "metadata": {},
   "outputs": [
    {
     "data": {
      "text/html": [
       "<div><style>\n",
       ".dataframe > thead > tr,\n",
       ".dataframe > tbody > tr {\n",
       "  text-align: right;\n",
       "  white-space: pre-wrap;\n",
       "}\n",
       "</style>\n",
       "<small>shape: (4, 12)</small><table border=\"1\" class=\"dataframe\"><thead><tr><th>STORE_NBR</th><th>% Sales CONVENIENCE_3</th><th>% Sales WELLNESS_1</th><th>% Sales CONVENIENCE_2</th><th>% Sales CONVENIENCE_0</th><th>% Sales WELLNESS_3</th><th>% Sales HEALTH_3</th><th>% Sales CONVENIENCE_1</th><th>% Sales WELLNESS_2</th><th>% Sales WELLNESS_0</th><th>% Sales HEALTH_2</th><th>% Sales HEALTH_0</th></tr><tr><td>i64</td><td>f64</td><td>f64</td><td>f64</td><td>f64</td><td>f64</td><td>f64</td><td>f64</td><td>f64</td><td>f64</td><td>f64</td><td>f64</td></tr></thead><tbody><tr><td>204</td><td>36.84</td><td>0.0</td><td>41.81</td><td>16.13</td><td>0.0</td><td>0.0</td><td>5.22</td><td>0.0</td><td>0.0</td><td>0.0</td><td>0.0</td></tr><tr><td>201</td><td>0.0</td><td>7.45</td><td>0.0</td><td>0.0</td><td>37.32</td><td>20.65</td><td>0.0</td><td>0.37</td><td>0.0</td><td>26.16</td><td>8.04</td></tr><tr><td>202</td><td>3.24</td><td>25.73</td><td>13.6</td><td>0.0</td><td>3.13</td><td>0.0</td><td>0.0</td><td>17.19</td><td>37.11</td><td>0.0</td><td>0.0</td></tr><tr><td>203</td><td>6.59</td><td>0.0</td><td>16.97</td><td>38.47</td><td>0.0</td><td>0.0</td><td>37.97</td><td>0.0</td><td>0.0</td><td>0.0</td><td>0.0</td></tr></tbody></table></div>"
      ],
      "text/plain": [
       "shape: (4, 12)\n",
       "┌───────────┬───────────┬───────────┬───────────┬───┬───────────┬───────────┬───────────┬──────────┐\n",
       "│ STORE_NBR ┆ % Sales   ┆ % Sales   ┆ % Sales   ┆ … ┆ % Sales   ┆ % Sales   ┆ % Sales   ┆ % Sales  │\n",
       "│ ---       ┆ CONVENIEN ┆ WELLNESS_ ┆ CONVENIEN ┆   ┆ WELLNESS_ ┆ WELLNESS_ ┆ HEALTH_2  ┆ HEALTH_0 │\n",
       "│ i64       ┆ CE_3      ┆ 1         ┆ CE_2      ┆   ┆ 2         ┆ 0         ┆ ---       ┆ ---      │\n",
       "│           ┆ ---       ┆ ---       ┆ ---       ┆   ┆ ---       ┆ ---       ┆ f64       ┆ f64      │\n",
       "│           ┆ f64       ┆ f64       ┆ f64       ┆   ┆ f64       ┆ f64       ┆           ┆          │\n",
       "╞═══════════╪═══════════╪═══════════╪═══════════╪═══╪═══════════╪═══════════╪═══════════╪══════════╡\n",
       "│ 204       ┆ 36.84     ┆ 0.0       ┆ 41.81     ┆ … ┆ 0.0       ┆ 0.0       ┆ 0.0       ┆ 0.0      │\n",
       "│ 201       ┆ 0.0       ┆ 7.45      ┆ 0.0       ┆ … ┆ 0.37      ┆ 0.0       ┆ 26.16     ┆ 8.04     │\n",
       "│ 202       ┆ 3.24      ┆ 25.73     ┆ 13.6      ┆ … ┆ 17.19     ┆ 37.11     ┆ 0.0       ┆ 0.0      │\n",
       "│ 203       ┆ 6.59      ┆ 0.0       ┆ 16.97     ┆ … ┆ 0.0       ┆ 0.0       ┆ 0.0       ┆ 0.0      │\n",
       "└───────────┴───────────┴───────────┴───────────┴───┴───────────┴───────────┴───────────┴──────────┘"
      ]
     },
     "execution_count": 22,
     "metadata": {},
     "output_type": "execute_result"
    }
   ],
   "source": [
    "df[\"Health\"]"
   ]
  }
 ],
 "metadata": {
  "kernelspec": {
   "display_name": ".venv",
   "language": "python",
   "name": "python3"
  },
  "language_info": {
   "codemirror_mode": {
    "name": "ipython",
    "version": 3
   },
   "file_extension": ".py",
   "mimetype": "text/x-python",
   "name": "python",
   "nbconvert_exporter": "python",
   "pygments_lexer": "ipython3",
   "version": "3.10.17"
  }
 },
 "nbformat": 4,
 "nbformat_minor": 2
}
