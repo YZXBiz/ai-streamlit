{
 "cells": [
  {
   "cell_type": "code",
   "execution_count": 18,
   "metadata": {},
   "outputs": [],
   "source": [
    "import pandas as pd"
   ]
  },
  {
   "cell_type": "code",
   "execution_count": 19,
   "metadata": {},
   "outputs": [],
   "source": [
    "df = pd.read_pickle(\"/workspaces/testing-dagster/data/internal/sales_by_category.pkl\")"
   ]
  },
  {
   "cell_type": "code",
   "execution_count": 22,
   "metadata": {},
   "outputs": [
    {
     "data": {
      "text/html": [
       "<div><style>\n",
       ".dataframe > thead > tr,\n",
       ".dataframe > tbody > tr {\n",
       "  text-align: right;\n",
       "  white-space: pre-wrap;\n",
       "}\n",
       "</style>\n",
       "<small>shape: (4, 12)</small><table border=\"1\" class=\"dataframe\"><thead><tr><th>STORE_NBR</th><th>% Sales CONVENIENCE_3</th><th>% Sales WELLNESS_1</th><th>% Sales CONVENIENCE_2</th><th>% Sales CONVENIENCE_0</th><th>% Sales WELLNESS_3</th><th>% Sales HEALTH_3</th><th>% Sales CONVENIENCE_1</th><th>% Sales WELLNESS_2</th><th>% Sales WELLNESS_0</th><th>% Sales HEALTH_2</th><th>% Sales HEALTH_0</th></tr><tr><td>i64</td><td>f64</td><td>f64</td><td>f64</td><td>f64</td><td>f64</td><td>f64</td><td>f64</td><td>f64</td><td>f64</td><td>f64</td><td>f64</td></tr></thead><tbody><tr><td>204</td><td>36.84</td><td>0.0</td><td>41.81</td><td>16.13</td><td>0.0</td><td>0.0</td><td>5.22</td><td>0.0</td><td>0.0</td><td>0.0</td><td>0.0</td></tr><tr><td>201</td><td>0.0</td><td>7.45</td><td>0.0</td><td>0.0</td><td>37.32</td><td>20.65</td><td>0.0</td><td>0.37</td><td>0.0</td><td>26.16</td><td>8.04</td></tr><tr><td>202</td><td>3.24</td><td>25.73</td><td>13.6</td><td>0.0</td><td>3.13</td><td>0.0</td><td>0.0</td><td>17.19</td><td>37.11</td><td>0.0</td><td>0.0</td></tr><tr><td>203</td><td>6.59</td><td>0.0</td><td>16.97</td><td>38.47</td><td>0.0</td><td>0.0</td><td>37.97</td><td>0.0</td><td>0.0</td><td>0.0</td><td>0.0</td></tr></tbody></table></div>"
      ],
      "text/plain": [
       "shape: (4, 12)\n",
       "┌───────────┬───────────┬───────────┬───────────┬───┬───────────┬───────────┬───────────┬──────────┐\n",
       "│ STORE_NBR ┆ % Sales   ┆ % Sales   ┆ % Sales   ┆ … ┆ % Sales   ┆ % Sales   ┆ % Sales   ┆ % Sales  │\n",
       "│ ---       ┆ CONVENIEN ┆ WELLNESS_ ┆ CONVENIEN ┆   ┆ WELLNESS_ ┆ WELLNESS_ ┆ HEALTH_2  ┆ HEALTH_0 │\n",
       "│ i64       ┆ CE_3      ┆ 1         ┆ CE_2      ┆   ┆ 2         ┆ 0         ┆ ---       ┆ ---      │\n",
       "│           ┆ ---       ┆ ---       ┆ ---       ┆   ┆ ---       ┆ ---       ┆ f64       ┆ f64      │\n",
       "│           ┆ f64       ┆ f64       ┆ f64       ┆   ┆ f64       ┆ f64       ┆           ┆          │\n",
       "╞═══════════╪═══════════╪═══════════╪═══════════╪═══╪═══════════╪═══════════╪═══════════╪══════════╡\n",
       "│ 204       ┆ 36.84     ┆ 0.0       ┆ 41.81     ┆ … ┆ 0.0       ┆ 0.0       ┆ 0.0       ┆ 0.0      │\n",
       "│ 201       ┆ 0.0       ┆ 7.45      ┆ 0.0       ┆ … ┆ 0.37      ┆ 0.0       ┆ 26.16     ┆ 8.04     │\n",
       "│ 202       ┆ 3.24      ┆ 25.73     ┆ 13.6      ┆ … ┆ 17.19     ┆ 37.11     ┆ 0.0       ┆ 0.0      │\n",
       "│ 203       ┆ 6.59      ┆ 0.0       ┆ 16.97     ┆ … ┆ 0.0       ┆ 0.0       ┆ 0.0       ┆ 0.0      │\n",
       "└───────────┴───────────┴───────────┴───────────┴───┴───────────┴───────────┴───────────┴──────────┘"
      ]
     },
     "execution_count": 22,
     "metadata": {},
     "output_type": "execute_result"
    }
   ],
   "source": [
    "df['Health']"
   ]
  }
 ],
 "metadata": {
  "kernelspec": {
   "display_name": ".venv",
   "language": "python",
   "name": "python3"
  },
  "language_info": {
   "codemirror_mode": {
    "name": "ipython",
    "version": 3
   },
   "file_extension": ".py",
   "mimetype": "text/x-python",
   "name": "python",
   "nbconvert_exporter": "python",
   "pygments_lexer": "ipython3",
   "version": "3.10.17"
  }
 },
 "nbformat": 4,
 "nbformat_minor": 2
}
