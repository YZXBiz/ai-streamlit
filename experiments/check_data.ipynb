{
 "cells": [
  {
   "cell_type": "code",
   "execution_count": 5,
   "metadata": {},
   "outputs": [],
   "source": [
    "import pandas as pd"
   ]
  },
  {
   "cell_type": "code",
   "execution_count": 10,
   "metadata": {},
   "outputs": [],
   "source": [
    "df = pd.read_pickle(\n",
    "    \"/workspaces/clustering-dagster/clustering-pipeline/storage/internal_sales_by_category\"\n",
    ")"
   ]
  },
  {
   "cell_type": "code",
   "execution_count": 15,
   "metadata": {},
   "outputs": [
    {
     "data": {
      "text/html": [
       "<div><style>\n",
       ".dataframe > thead > tr,\n",
       ".dataframe > tbody > tr {\n",
       "  text-align: right;\n",
       "  white-space: pre-wrap;\n",
       "}\n",
       "</style>\n",
       "<small>shape: (3, 13)</small><table border=\"1\" class=\"dataframe\"><thead><tr><th>STORE_NBR</th><th>% Sales CONVENIENCE_2</th><th>% Sales WELLNESS_3</th><th>% Sales WELLNESS_2</th><th>% Sales HEALTH_3</th><th>% Sales HEALTH_0</th><th>% Sales WELLNESS_0</th><th>% Sales WELLNESS_1</th><th>% Sales HEALTH_1</th><th>% Sales CONVENIENCE_0</th><th>% Sales CONVENIENCE_3</th><th>% Sales CONVENIENCE_1</th><th>% Sales HEALTH_2</th></tr><tr><td>i64</td><td>f64</td><td>f64</td><td>f64</td><td>f64</td><td>f64</td><td>f64</td><td>f64</td><td>f64</td><td>f64</td><td>f64</td><td>f64</td><td>f64</td></tr></thead><tbody><tr><td>203</td><td>17.47</td><td>36.07</td><td>3.34</td><td>0.0</td><td>0.0</td><td>6.18</td><td>14.96</td><td>0.0</td><td>0.0</td><td>3.77</td><td>18.21</td><td>0.0</td></tr><tr><td>202</td><td>0.0</td><td>11.2</td><td>5.93</td><td>7.71</td><td>55.99</td><td>5.73</td><td>13.42</td><td>0.0</td><td>0.0</td><td>0.0</td><td>0.0</td><td>0.0</td></tr><tr><td>201</td><td>1.72</td><td>0.0</td><td>0.0</td><td>15.44</td><td>25.04</td><td>0.0</td><td>0.0</td><td>15.65</td><td>17.91</td><td>0.0</td><td>4.18</td><td>20.07</td></tr></tbody></table></div>"
      ],
      "text/plain": [
       "shape: (3, 13)\n",
       "┌───────────┬───────────┬───────────┬───────────┬───┬───────────┬───────────┬───────────┬──────────┐\n",
       "│ STORE_NBR ┆ % Sales   ┆ % Sales   ┆ % Sales   ┆ … ┆ % Sales   ┆ % Sales   ┆ % Sales   ┆ % Sales  │\n",
       "│ ---       ┆ CONVENIEN ┆ WELLNESS_ ┆ WELLNESS_ ┆   ┆ CONVENIEN ┆ CONVENIEN ┆ CONVENIEN ┆ HEALTH_2 │\n",
       "│ i64       ┆ CE_2      ┆ 3         ┆ 2         ┆   ┆ CE_0      ┆ CE_3      ┆ CE_1      ┆ ---      │\n",
       "│           ┆ ---       ┆ ---       ┆ ---       ┆   ┆ ---       ┆ ---       ┆ ---       ┆ f64      │\n",
       "│           ┆ f64       ┆ f64       ┆ f64       ┆   ┆ f64       ┆ f64       ┆ f64       ┆          │\n",
       "╞═══════════╪═══════════╪═══════════╪═══════════╪═══╪═══════════╪═══════════╪═══════════╪══════════╡\n",
       "│ 203       ┆ 17.47     ┆ 36.07     ┆ 3.34      ┆ … ┆ 0.0       ┆ 3.77      ┆ 18.21     ┆ 0.0      │\n",
       "│ 202       ┆ 0.0       ┆ 11.2      ┆ 5.93      ┆ … ┆ 0.0       ┆ 0.0       ┆ 0.0       ┆ 0.0      │\n",
       "│ 201       ┆ 1.72      ┆ 0.0       ┆ 0.0       ┆ … ┆ 17.91     ┆ 0.0       ┆ 4.18      ┆ 20.07    │\n",
       "└───────────┴───────────┴───────────┴───────────┴───┴───────────┴───────────┴───────────┴──────────┘"
      ]
     },
     "execution_count": 15,
     "metadata": {},
     "output_type": "execute_result"
    }
   ],
   "source": [
    "df[\"Beverages\"]"
   ]
  },
  {
   "cell_type": "code",
   "execution_count": 16,
   "metadata": {},
   "outputs": [],
   "source": [
    "df_sales = pd.read_pickle(\"/workspaces/clustering-dagster/data/internal/sales_by_category.pkl\")"
   ]
  },
  {
   "cell_type": "code",
   "execution_count": 17,
   "metadata": {},
   "outputs": [
    {
     "data": {
      "text/html": [
       "<div><style>\n",
       ".dataframe > thead > tr,\n",
       ".dataframe > tbody > tr {\n",
       "  text-align: right;\n",
       "  white-space: pre-wrap;\n",
       "}\n",
       "</style>\n",
       "<small>shape: (3, 13)</small><table border=\"1\" class=\"dataframe\"><thead><tr><th>STORE_NBR</th><th>% Sales CONVENIENCE_2</th><th>% Sales WELLNESS_3</th><th>% Sales WELLNESS_2</th><th>% Sales HEALTH_3</th><th>% Sales HEALTH_0</th><th>% Sales WELLNESS_0</th><th>% Sales WELLNESS_1</th><th>% Sales HEALTH_1</th><th>% Sales CONVENIENCE_0</th><th>% Sales CONVENIENCE_3</th><th>% Sales CONVENIENCE_1</th><th>% Sales HEALTH_2</th></tr><tr><td>i64</td><td>f64</td><td>f64</td><td>f64</td><td>f64</td><td>f64</td><td>f64</td><td>f64</td><td>f64</td><td>f64</td><td>f64</td><td>f64</td><td>f64</td></tr></thead><tbody><tr><td>203</td><td>17.47</td><td>36.07</td><td>3.34</td><td>0.0</td><td>0.0</td><td>6.18</td><td>14.96</td><td>0.0</td><td>0.0</td><td>3.77</td><td>18.21</td><td>0.0</td></tr><tr><td>202</td><td>0.0</td><td>11.2</td><td>5.93</td><td>7.71</td><td>55.99</td><td>5.73</td><td>13.42</td><td>0.0</td><td>0.0</td><td>0.0</td><td>0.0</td><td>0.0</td></tr><tr><td>201</td><td>1.72</td><td>0.0</td><td>0.0</td><td>15.44</td><td>25.04</td><td>0.0</td><td>0.0</td><td>15.65</td><td>17.91</td><td>0.0</td><td>4.18</td><td>20.07</td></tr></tbody></table></div>"
      ],
      "text/plain": [
       "shape: (3, 13)\n",
       "┌───────────┬───────────┬───────────┬───────────┬───┬───────────┬───────────┬───────────┬──────────┐\n",
       "│ STORE_NBR ┆ % Sales   ┆ % Sales   ┆ % Sales   ┆ … ┆ % Sales   ┆ % Sales   ┆ % Sales   ┆ % Sales  │\n",
       "│ ---       ┆ CONVENIEN ┆ WELLNESS_ ┆ WELLNESS_ ┆   ┆ CONVENIEN ┆ CONVENIEN ┆ CONVENIEN ┆ HEALTH_2 │\n",
       "│ i64       ┆ CE_2      ┆ 3         ┆ 2         ┆   ┆ CE_0      ┆ CE_3      ┆ CE_1      ┆ ---      │\n",
       "│           ┆ ---       ┆ ---       ┆ ---       ┆   ┆ ---       ┆ ---       ┆ ---       ┆ f64      │\n",
       "│           ┆ f64       ┆ f64       ┆ f64       ┆   ┆ f64       ┆ f64       ┆ f64       ┆          │\n",
       "╞═══════════╪═══════════╪═══════════╪═══════════╪═══╪═══════════╪═══════════╪═══════════╪══════════╡\n",
       "│ 203       ┆ 17.47     ┆ 36.07     ┆ 3.34      ┆ … ┆ 0.0       ┆ 3.77      ┆ 18.21     ┆ 0.0      │\n",
       "│ 202       ┆ 0.0       ┆ 11.2      ┆ 5.93      ┆ … ┆ 0.0       ┆ 0.0       ┆ 0.0       ┆ 0.0      │\n",
       "│ 201       ┆ 1.72      ┆ 0.0       ┆ 0.0       ┆ … ┆ 17.91     ┆ 0.0       ┆ 4.18      ┆ 20.07    │\n",
       "└───────────┴───────────┴───────────┴───────────┴───┴───────────┴───────────┴───────────┴──────────┘"
      ]
     },
     "execution_count": 17,
     "metadata": {},
     "output_type": "execute_result"
    }
   ],
   "source": [
    "df_sales[\"Beverages\"]"
   ]
  },
  {
   "cell_type": "code",
   "execution_count": 3,
   "metadata": {},
   "outputs": [],
   "source": [
    "df_fe = pd.read_pickle(\"/workspaces/clustering-dagster/storage/internal_fe_raw_data\")"
   ]
  },
  {
   "cell_type": "code",
   "execution_count": 4,
   "metadata": {},
   "outputs": [
    {
     "data": {
      "text/plain": [
       "{'model': KMeans(n_clusters=2, random_state=42),\n",
       " 'experiment_path': '/tmp/pycaret_internal_experiments_k011rrzv/Beauty_experiment',\n",
       " 'features': ['pca0'],\n",
       " 'num_clusters': 2,\n",
       " 'num_samples': 3,\n",
       " 'metrics': {'Silhouette': 0.6585000157356262,\n",
       "  'Calinski-Harabasz': 8817.694,\n",
       "  'Davies-Bouldin': 0.0061,\n",
       "  'Homogeneity': 0.0,\n",
       "  'Rand Index': 0.0,\n",
       "  'Completeness': 0.0}}"
      ]
     },
     "execution_count": 4,
     "metadata": {},
     "output_type": "execute_result"
    }
   ],
   "source": [
    "df[\"Beauty\"]"
   ]
  },
  {
   "cell_type": "code",
   "execution_count": 5,
   "metadata": {},
   "outputs": [
    {
     "data": {
      "text/html": [
       "<div>\n",
       "<style scoped>\n",
       "    .dataframe tbody tr th:only-of-type {\n",
       "        vertical-align: middle;\n",
       "    }\n",
       "\n",
       "    .dataframe tbody tr th {\n",
       "        vertical-align: top;\n",
       "    }\n",
       "\n",
       "    .dataframe thead th {\n",
       "        text-align: right;\n",
       "    }\n",
       "</style>\n",
       "<table border=\"1\" class=\"dataframe\">\n",
       "  <thead>\n",
       "    <tr style=\"text-align: right;\">\n",
       "      <th></th>\n",
       "      <th>STORE_NBR</th>\n",
       "      <th>% Sales CONVENIENCE_1</th>\n",
       "      <th>% Sales CONVENIENCE_3</th>\n",
       "      <th>% Sales CONVENIENCE_0</th>\n",
       "      <th>% Sales HEALTH_2</th>\n",
       "      <th>% Sales HEALTH_1</th>\n",
       "      <th>% Sales CONVENIENCE_2</th>\n",
       "      <th>% Sales HEALTH_3</th>\n",
       "      <th>% Sales WELLNESS_2</th>\n",
       "      <th>% Sales WELLNESS_1</th>\n",
       "      <th>% Sales HEALTH_0</th>\n",
       "      <th>% Sales WELLNESS_0</th>\n",
       "      <th>% Sales WELLNESS_3</th>\n",
       "    </tr>\n",
       "  </thead>\n",
       "  <tbody>\n",
       "    <tr>\n",
       "      <th>0</th>\n",
       "      <td>204</td>\n",
       "      <td>12.68</td>\n",
       "      <td>8.84</td>\n",
       "      <td>8.14</td>\n",
       "      <td>43.05</td>\n",
       "      <td>5.0</td>\n",
       "      <td>0.00</td>\n",
       "      <td>8.67</td>\n",
       "      <td>0.00</td>\n",
       "      <td>0.00</td>\n",
       "      <td>13.62</td>\n",
       "      <td>0.00</td>\n",
       "      <td>0.0</td>\n",
       "    </tr>\n",
       "    <tr>\n",
       "      <th>1</th>\n",
       "      <td>202</td>\n",
       "      <td>23.96</td>\n",
       "      <td>2.48</td>\n",
       "      <td>32.62</td>\n",
       "      <td>0.00</td>\n",
       "      <td>0.0</td>\n",
       "      <td>40.93</td>\n",
       "      <td>0.00</td>\n",
       "      <td>0.00</td>\n",
       "      <td>0.00</td>\n",
       "      <td>0.00</td>\n",
       "      <td>0.00</td>\n",
       "      <td>0.0</td>\n",
       "    </tr>\n",
       "    <tr>\n",
       "      <th>2</th>\n",
       "      <td>203</td>\n",
       "      <td>10.45</td>\n",
       "      <td>27.01</td>\n",
       "      <td>54.77</td>\n",
       "      <td>0.00</td>\n",
       "      <td>0.0</td>\n",
       "      <td>7.77</td>\n",
       "      <td>0.00</td>\n",
       "      <td>0.00</td>\n",
       "      <td>0.00</td>\n",
       "      <td>0.00</td>\n",
       "      <td>0.00</td>\n",
       "      <td>0.0</td>\n",
       "    </tr>\n",
       "    <tr>\n",
       "      <th>3</th>\n",
       "      <td>201</td>\n",
       "      <td>14.60</td>\n",
       "      <td>5.50</td>\n",
       "      <td>0.00</td>\n",
       "      <td>0.00</td>\n",
       "      <td>0.0</td>\n",
       "      <td>0.00</td>\n",
       "      <td>0.00</td>\n",
       "      <td>8.26</td>\n",
       "      <td>33.74</td>\n",
       "      <td>0.00</td>\n",
       "      <td>28.81</td>\n",
       "      <td>9.1</td>\n",
       "    </tr>\n",
       "  </tbody>\n",
       "</table>\n",
       "</div>"
      ],
      "text/plain": [
       "   STORE_NBR  % Sales CONVENIENCE_1  % Sales CONVENIENCE_3  \\\n",
       "0        204                  12.68                   8.84   \n",
       "1        202                  23.96                   2.48   \n",
       "2        203                  10.45                  27.01   \n",
       "3        201                  14.60                   5.50   \n",
       "\n",
       "   % Sales CONVENIENCE_0  % Sales HEALTH_2  % Sales HEALTH_1  \\\n",
       "0                   8.14             43.05               5.0   \n",
       "1                  32.62              0.00               0.0   \n",
       "2                  54.77              0.00               0.0   \n",
       "3                   0.00              0.00               0.0   \n",
       "\n",
       "   % Sales CONVENIENCE_2  % Sales HEALTH_3  % Sales WELLNESS_2  \\\n",
       "0                   0.00              8.67                0.00   \n",
       "1                  40.93              0.00                0.00   \n",
       "2                   7.77              0.00                0.00   \n",
       "3                   0.00              0.00                8.26   \n",
       "\n",
       "   % Sales WELLNESS_1  % Sales HEALTH_0  % Sales WELLNESS_0  \\\n",
       "0                0.00             13.62                0.00   \n",
       "1                0.00              0.00                0.00   \n",
       "2                0.00              0.00                0.00   \n",
       "3               33.74              0.00               28.81   \n",
       "\n",
       "   % Sales WELLNESS_3  \n",
       "0                 0.0  \n",
       "1                 0.0  \n",
       "2                 0.0  \n",
       "3                 9.1  "
      ]
     },
     "execution_count": 5,
     "metadata": {},
     "output_type": "execute_result"
    }
   ],
   "source": [
    "df_fe[\"Beauty\"].to_pandas()"
   ]
  },
  {
   "cell_type": "code",
   "execution_count": 6,
   "metadata": {},
   "outputs": [],
   "source": [
    "from pycaret.clustering import load_experiment"
   ]
  },
  {
   "cell_type": "code",
   "execution_count": 7,
   "metadata": {},
   "outputs": [],
   "source": [
    "exp = load_experiment(df[\"Beauty\"][\"experiment_path\"], data=df_fe[\"Beauty\"].to_pandas())"
   ]
  },
  {
   "cell_type": "code",
   "execution_count": 8,
   "metadata": {},
   "outputs": [
    {
     "ename": "ValueError",
     "evalue": "Length of values (3) does not match length of index (4)",
     "output_type": "error",
     "traceback": [
      "\u001b[0;31m---------------------------------------------------------------------------\u001b[0m",
      "\u001b[0;31mValueError\u001b[0m                                Traceback (most recent call last)",
      "Cell \u001b[0;32mIn[8], line 1\u001b[0m\n\u001b[0;32m----> 1\u001b[0m \u001b[43mexp\u001b[49m\u001b[38;5;241;43m.\u001b[39;49m\u001b[43massign_model\u001b[49m\u001b[43m(\u001b[49m\u001b[43mdf\u001b[49m\u001b[43m[\u001b[49m\u001b[38;5;124;43m'\u001b[39;49m\u001b[38;5;124;43mBeauty\u001b[39;49m\u001b[38;5;124;43m'\u001b[39;49m\u001b[43m]\u001b[49m\u001b[43m[\u001b[49m\u001b[38;5;124;43m'\u001b[39;49m\u001b[38;5;124;43mmodel\u001b[39;49m\u001b[38;5;124;43m'\u001b[39;49m\u001b[43m]\u001b[49m\u001b[43m)\u001b[49m\n",
      "File \u001b[0;32m/workspaces/clustering-dagster/.venv/lib/python3.10/site-packages/pycaret/internal/pycaret_experiment/unsupervised_experiment.py:834\u001b[0m, in \u001b[0;36m_UnsupervisedExperiment.assign_model\u001b[0;34m(self, model, transformation, score, verbose)\u001b[0m\n\u001b[1;32m    832\u001b[0m \u001b[38;5;28;01mif\u001b[39;00m \u001b[38;5;28mself\u001b[39m\u001b[38;5;241m.\u001b[39m_ml_usecase \u001b[38;5;241m==\u001b[39m MLUsecase\u001b[38;5;241m.\u001b[39mCLUSTERING:\n\u001b[1;32m    833\u001b[0m     labels \u001b[38;5;241m=\u001b[39m [\u001b[38;5;124mf\u001b[39m\u001b[38;5;124m\"\u001b[39m\u001b[38;5;124mCluster \u001b[39m\u001b[38;5;132;01m{\u001b[39;00mi\u001b[38;5;132;01m}\u001b[39;00m\u001b[38;5;124m\"\u001b[39m \u001b[38;5;28;01mfor\u001b[39;00m i \u001b[38;5;129;01min\u001b[39;00m model\u001b[38;5;241m.\u001b[39mlabels_]\n\u001b[0;32m--> 834\u001b[0m     \u001b[43mdata\u001b[49m\u001b[43m[\u001b[49m\u001b[38;5;124;43m\"\u001b[39;49m\u001b[38;5;124;43mCluster\u001b[39;49m\u001b[38;5;124;43m\"\u001b[39;49m\u001b[43m]\u001b[49m \u001b[38;5;241m=\u001b[39m labels\n\u001b[1;32m    835\u001b[0m \u001b[38;5;28;01melse\u001b[39;00m:\n\u001b[1;32m    836\u001b[0m     data[\u001b[38;5;124m\"\u001b[39m\u001b[38;5;124mAnomaly\u001b[39m\u001b[38;5;124m\"\u001b[39m] \u001b[38;5;241m=\u001b[39m model\u001b[38;5;241m.\u001b[39mlabels_\n",
      "File \u001b[0;32m/workspaces/clustering-dagster/.venv/lib/python3.10/site-packages/pandas/core/frame.py:4091\u001b[0m, in \u001b[0;36mDataFrame.__setitem__\u001b[0;34m(self, key, value)\u001b[0m\n\u001b[1;32m   4088\u001b[0m     \u001b[38;5;28mself\u001b[39m\u001b[38;5;241m.\u001b[39m_setitem_array([key], value)\n\u001b[1;32m   4089\u001b[0m \u001b[38;5;28;01melse\u001b[39;00m:\n\u001b[1;32m   4090\u001b[0m     \u001b[38;5;66;03m# set column\u001b[39;00m\n\u001b[0;32m-> 4091\u001b[0m     \u001b[38;5;28;43mself\u001b[39;49m\u001b[38;5;241;43m.\u001b[39;49m\u001b[43m_set_item\u001b[49m\u001b[43m(\u001b[49m\u001b[43mkey\u001b[49m\u001b[43m,\u001b[49m\u001b[43m \u001b[49m\u001b[43mvalue\u001b[49m\u001b[43m)\u001b[49m\n",
      "File \u001b[0;32m/workspaces/clustering-dagster/.venv/lib/python3.10/site-packages/pandas/core/frame.py:4300\u001b[0m, in \u001b[0;36mDataFrame._set_item\u001b[0;34m(self, key, value)\u001b[0m\n\u001b[1;32m   4290\u001b[0m \u001b[38;5;28;01mdef\u001b[39;00m\u001b[38;5;250m \u001b[39m\u001b[38;5;21m_set_item\u001b[39m(\u001b[38;5;28mself\u001b[39m, key, value) \u001b[38;5;241m-\u001b[39m\u001b[38;5;241m>\u001b[39m \u001b[38;5;28;01mNone\u001b[39;00m:\n\u001b[1;32m   4291\u001b[0m \u001b[38;5;250m    \u001b[39m\u001b[38;5;124;03m\"\"\"\u001b[39;00m\n\u001b[1;32m   4292\u001b[0m \u001b[38;5;124;03m    Add series to DataFrame in specified column.\u001b[39;00m\n\u001b[1;32m   4293\u001b[0m \n\u001b[0;32m   (...)\u001b[0m\n\u001b[1;32m   4298\u001b[0m \u001b[38;5;124;03m    ensure homogeneity.\u001b[39;00m\n\u001b[1;32m   4299\u001b[0m \u001b[38;5;124;03m    \"\"\"\u001b[39;00m\n\u001b[0;32m-> 4300\u001b[0m     value, refs \u001b[38;5;241m=\u001b[39m \u001b[38;5;28;43mself\u001b[39;49m\u001b[38;5;241;43m.\u001b[39;49m\u001b[43m_sanitize_column\u001b[49m\u001b[43m(\u001b[49m\u001b[43mvalue\u001b[49m\u001b[43m)\u001b[49m\n\u001b[1;32m   4302\u001b[0m     \u001b[38;5;28;01mif\u001b[39;00m (\n\u001b[1;32m   4303\u001b[0m         key \u001b[38;5;129;01min\u001b[39;00m \u001b[38;5;28mself\u001b[39m\u001b[38;5;241m.\u001b[39mcolumns\n\u001b[1;32m   4304\u001b[0m         \u001b[38;5;129;01mand\u001b[39;00m value\u001b[38;5;241m.\u001b[39mndim \u001b[38;5;241m==\u001b[39m \u001b[38;5;241m1\u001b[39m\n\u001b[1;32m   4305\u001b[0m         \u001b[38;5;129;01mand\u001b[39;00m \u001b[38;5;129;01mnot\u001b[39;00m \u001b[38;5;28misinstance\u001b[39m(value\u001b[38;5;241m.\u001b[39mdtype, ExtensionDtype)\n\u001b[1;32m   4306\u001b[0m     ):\n\u001b[1;32m   4307\u001b[0m         \u001b[38;5;66;03m# broadcast across multiple columns if necessary\u001b[39;00m\n\u001b[1;32m   4308\u001b[0m         \u001b[38;5;28;01mif\u001b[39;00m \u001b[38;5;129;01mnot\u001b[39;00m \u001b[38;5;28mself\u001b[39m\u001b[38;5;241m.\u001b[39mcolumns\u001b[38;5;241m.\u001b[39mis_unique \u001b[38;5;129;01mor\u001b[39;00m \u001b[38;5;28misinstance\u001b[39m(\u001b[38;5;28mself\u001b[39m\u001b[38;5;241m.\u001b[39mcolumns, MultiIndex):\n",
      "File \u001b[0;32m/workspaces/clustering-dagster/.venv/lib/python3.10/site-packages/pandas/core/frame.py:5039\u001b[0m, in \u001b[0;36mDataFrame._sanitize_column\u001b[0;34m(self, value)\u001b[0m\n\u001b[1;32m   5036\u001b[0m     \u001b[38;5;28;01mreturn\u001b[39;00m _reindex_for_setitem(value, \u001b[38;5;28mself\u001b[39m\u001b[38;5;241m.\u001b[39mindex)\n\u001b[1;32m   5038\u001b[0m \u001b[38;5;28;01mif\u001b[39;00m is_list_like(value):\n\u001b[0;32m-> 5039\u001b[0m     \u001b[43mcom\u001b[49m\u001b[38;5;241;43m.\u001b[39;49m\u001b[43mrequire_length_match\u001b[49m\u001b[43m(\u001b[49m\u001b[43mvalue\u001b[49m\u001b[43m,\u001b[49m\u001b[43m \u001b[49m\u001b[38;5;28;43mself\u001b[39;49m\u001b[38;5;241;43m.\u001b[39;49m\u001b[43mindex\u001b[49m\u001b[43m)\u001b[49m\n\u001b[1;32m   5040\u001b[0m \u001b[38;5;28;01mreturn\u001b[39;00m sanitize_array(value, \u001b[38;5;28mself\u001b[39m\u001b[38;5;241m.\u001b[39mindex, copy\u001b[38;5;241m=\u001b[39m\u001b[38;5;28;01mTrue\u001b[39;00m, allow_2d\u001b[38;5;241m=\u001b[39m\u001b[38;5;28;01mTrue\u001b[39;00m), \u001b[38;5;28;01mNone\u001b[39;00m\n",
      "File \u001b[0;32m/workspaces/clustering-dagster/.venv/lib/python3.10/site-packages/pandas/core/common.py:561\u001b[0m, in \u001b[0;36mrequire_length_match\u001b[0;34m(data, index)\u001b[0m\n\u001b[1;32m    557\u001b[0m \u001b[38;5;250m\u001b[39m\u001b[38;5;124;03m\"\"\"\u001b[39;00m\n\u001b[1;32m    558\u001b[0m \u001b[38;5;124;03mCheck the length of data matches the length of the index.\u001b[39;00m\n\u001b[1;32m    559\u001b[0m \u001b[38;5;124;03m\"\"\"\u001b[39;00m\n\u001b[1;32m    560\u001b[0m \u001b[38;5;28;01mif\u001b[39;00m \u001b[38;5;28mlen\u001b[39m(data) \u001b[38;5;241m!=\u001b[39m \u001b[38;5;28mlen\u001b[39m(index):\n\u001b[0;32m--> 561\u001b[0m     \u001b[38;5;28;01mraise\u001b[39;00m \u001b[38;5;167;01mValueError\u001b[39;00m(\n\u001b[1;32m    562\u001b[0m         \u001b[38;5;124m\"\u001b[39m\u001b[38;5;124mLength of values \u001b[39m\u001b[38;5;124m\"\u001b[39m\n\u001b[1;32m    563\u001b[0m         \u001b[38;5;124mf\u001b[39m\u001b[38;5;124m\"\u001b[39m\u001b[38;5;124m(\u001b[39m\u001b[38;5;132;01m{\u001b[39;00m\u001b[38;5;28mlen\u001b[39m(data)\u001b[38;5;132;01m}\u001b[39;00m\u001b[38;5;124m) \u001b[39m\u001b[38;5;124m\"\u001b[39m\n\u001b[1;32m    564\u001b[0m         \u001b[38;5;124m\"\u001b[39m\u001b[38;5;124mdoes not match length of index \u001b[39m\u001b[38;5;124m\"\u001b[39m\n\u001b[1;32m    565\u001b[0m         \u001b[38;5;124mf\u001b[39m\u001b[38;5;124m\"\u001b[39m\u001b[38;5;124m(\u001b[39m\u001b[38;5;132;01m{\u001b[39;00m\u001b[38;5;28mlen\u001b[39m(index)\u001b[38;5;132;01m}\u001b[39;00m\u001b[38;5;124m)\u001b[39m\u001b[38;5;124m\"\u001b[39m\n\u001b[1;32m    566\u001b[0m     )\n",
      "\u001b[0;31mValueError\u001b[0m: Length of values (3) does not match length of index (4)"
     ]
    }
   ],
   "source": [
    "exp.assign_model(df[\"Beauty\"][\"model\"])"
   ]
  },
  {
   "cell_type": "code",
   "execution_count": 40,
   "metadata": {},
   "outputs": [
    {
     "data": {
      "text/html": [
       "<div><style>\n",
       ".dataframe > thead > tr,\n",
       ".dataframe > tbody > tr {\n",
       "  text-align: right;\n",
       "  white-space: pre-wrap;\n",
       "}\n",
       "</style>\n",
       "<small>shape: (4, 13)</small><table border=\"1\" class=\"dataframe\"><thead><tr><th>STORE_NBR</th><th>% Sales CONVENIENCE_1</th><th>% Sales CONVENIENCE_3</th><th>% Sales CONVENIENCE_0</th><th>% Sales HEALTH_2</th><th>% Sales HEALTH_1</th><th>% Sales CONVENIENCE_2</th><th>% Sales HEALTH_3</th><th>% Sales WELLNESS_2</th><th>% Sales WELLNESS_1</th><th>% Sales HEALTH_0</th><th>% Sales WELLNESS_0</th><th>% Sales WELLNESS_3</th></tr><tr><td>i64</td><td>f64</td><td>f64</td><td>f64</td><td>f64</td><td>f64</td><td>f64</td><td>f64</td><td>f64</td><td>f64</td><td>f64</td><td>f64</td><td>f64</td></tr></thead><tbody><tr><td>204</td><td>12.68</td><td>8.84</td><td>8.14</td><td>43.05</td><td>5.0</td><td>0.0</td><td>8.67</td><td>0.0</td><td>0.0</td><td>13.62</td><td>0.0</td><td>0.0</td></tr><tr><td>202</td><td>23.96</td><td>2.48</td><td>32.62</td><td>0.0</td><td>0.0</td><td>40.93</td><td>0.0</td><td>0.0</td><td>0.0</td><td>0.0</td><td>0.0</td><td>0.0</td></tr><tr><td>203</td><td>10.45</td><td>27.01</td><td>54.77</td><td>0.0</td><td>0.0</td><td>7.77</td><td>0.0</td><td>0.0</td><td>0.0</td><td>0.0</td><td>0.0</td><td>0.0</td></tr><tr><td>201</td><td>14.6</td><td>5.5</td><td>0.0</td><td>0.0</td><td>0.0</td><td>0.0</td><td>0.0</td><td>8.26</td><td>33.74</td><td>0.0</td><td>28.81</td><td>9.1</td></tr></tbody></table></div>"
      ],
      "text/plain": [
       "shape: (4, 13)\n",
       "┌───────────┬───────────┬───────────┬───────────┬───┬───────────┬───────────┬───────────┬──────────┐\n",
       "│ STORE_NBR ┆ % Sales   ┆ % Sales   ┆ % Sales   ┆ … ┆ % Sales   ┆ % Sales   ┆ % Sales   ┆ % Sales  │\n",
       "│ ---       ┆ CONVENIEN ┆ CONVENIEN ┆ CONVENIEN ┆   ┆ WELLNESS_ ┆ HEALTH_0  ┆ WELLNESS_ ┆ WELLNESS │\n",
       "│ i64       ┆ CE_1      ┆ CE_3      ┆ CE_0      ┆   ┆ 1         ┆ ---       ┆ 0         ┆ _3       │\n",
       "│           ┆ ---       ┆ ---       ┆ ---       ┆   ┆ ---       ┆ f64       ┆ ---       ┆ ---      │\n",
       "│           ┆ f64       ┆ f64       ┆ f64       ┆   ┆ f64       ┆           ┆ f64       ┆ f64      │\n",
       "╞═══════════╪═══════════╪═══════════╪═══════════╪═══╪═══════════╪═══════════╪═══════════╪══════════╡\n",
       "│ 204       ┆ 12.68     ┆ 8.84      ┆ 8.14      ┆ … ┆ 0.0       ┆ 13.62     ┆ 0.0       ┆ 0.0      │\n",
       "│ 202       ┆ 23.96     ┆ 2.48      ┆ 32.62     ┆ … ┆ 0.0       ┆ 0.0       ┆ 0.0       ┆ 0.0      │\n",
       "│ 203       ┆ 10.45     ┆ 27.01     ┆ 54.77     ┆ … ┆ 0.0       ┆ 0.0       ┆ 0.0       ┆ 0.0      │\n",
       "│ 201       ┆ 14.6      ┆ 5.5       ┆ 0.0       ┆ … ┆ 33.74     ┆ 0.0       ┆ 28.81     ┆ 9.1      │\n",
       "└───────────┴───────────┴───────────┴───────────┴───┴───────────┴───────────┴───────────┴──────────┘"
      ]
     },
     "execution_count": 40,
     "metadata": {},
     "output_type": "execute_result"
    }
   ],
   "source": [
    "df_fe[\"Beauty\"]"
   ]
  },
  {
   "cell_type": "code",
   "execution_count": 15,
   "metadata": {},
   "outputs": [
    {
     "data": {
      "text/plain": [
       "'/tmp/pycaret_internal_experiments_g22wf5tj/Beauty_experiment'"
      ]
     },
     "execution_count": 15,
     "metadata": {},
     "output_type": "execute_result"
    }
   ],
   "source": [
    "df[\"Beauty\"][\"experiment_path\"]"
   ]
  },
  {
   "cell_type": "code",
   "execution_count": 7,
   "metadata": {},
   "outputs": [
    {
     "data": {
      "text/plain": [
       "{}"
      ]
     },
     "execution_count": 7,
     "metadata": {},
     "output_type": "execute_result"
    }
   ],
   "source": [
    "df"
   ]
  },
  {
   "cell_type": "code",
   "execution_count": 19,
   "metadata": {},
   "outputs": [],
   "source": [
    "df = pd.read_pickle(\"/workspaces/testing-dagster/data/internal/sales_by_category.pkl\")"
   ]
  },
  {
   "cell_type": "code",
   "execution_count": 22,
   "metadata": {},
   "outputs": [
    {
     "data": {
      "text/html": [
       "<div><style>\n",
       ".dataframe > thead > tr,\n",
       ".dataframe > tbody > tr {\n",
       "  text-align: right;\n",
       "  white-space: pre-wrap;\n",
       "}\n",
       "</style>\n",
       "<small>shape: (4, 12)</small><table border=\"1\" class=\"dataframe\"><thead><tr><th>STORE_NBR</th><th>% Sales CONVENIENCE_3</th><th>% Sales WELLNESS_1</th><th>% Sales CONVENIENCE_2</th><th>% Sales CONVENIENCE_0</th><th>% Sales WELLNESS_3</th><th>% Sales HEALTH_3</th><th>% Sales CONVENIENCE_1</th><th>% Sales WELLNESS_2</th><th>% Sales WELLNESS_0</th><th>% Sales HEALTH_2</th><th>% Sales HEALTH_0</th></tr><tr><td>i64</td><td>f64</td><td>f64</td><td>f64</td><td>f64</td><td>f64</td><td>f64</td><td>f64</td><td>f64</td><td>f64</td><td>f64</td><td>f64</td></tr></thead><tbody><tr><td>204</td><td>36.84</td><td>0.0</td><td>41.81</td><td>16.13</td><td>0.0</td><td>0.0</td><td>5.22</td><td>0.0</td><td>0.0</td><td>0.0</td><td>0.0</td></tr><tr><td>201</td><td>0.0</td><td>7.45</td><td>0.0</td><td>0.0</td><td>37.32</td><td>20.65</td><td>0.0</td><td>0.37</td><td>0.0</td><td>26.16</td><td>8.04</td></tr><tr><td>202</td><td>3.24</td><td>25.73</td><td>13.6</td><td>0.0</td><td>3.13</td><td>0.0</td><td>0.0</td><td>17.19</td><td>37.11</td><td>0.0</td><td>0.0</td></tr><tr><td>203</td><td>6.59</td><td>0.0</td><td>16.97</td><td>38.47</td><td>0.0</td><td>0.0</td><td>37.97</td><td>0.0</td><td>0.0</td><td>0.0</td><td>0.0</td></tr></tbody></table></div>"
      ],
      "text/plain": [
       "shape: (4, 12)\n",
       "┌───────────┬───────────┬───────────┬───────────┬───┬───────────┬───────────┬───────────┬──────────┐\n",
       "│ STORE_NBR ┆ % Sales   ┆ % Sales   ┆ % Sales   ┆ … ┆ % Sales   ┆ % Sales   ┆ % Sales   ┆ % Sales  │\n",
       "│ ---       ┆ CONVENIEN ┆ WELLNESS_ ┆ CONVENIEN ┆   ┆ WELLNESS_ ┆ WELLNESS_ ┆ HEALTH_2  ┆ HEALTH_0 │\n",
       "│ i64       ┆ CE_3      ┆ 1         ┆ CE_2      ┆   ┆ 2         ┆ 0         ┆ ---       ┆ ---      │\n",
       "│           ┆ ---       ┆ ---       ┆ ---       ┆   ┆ ---       ┆ ---       ┆ f64       ┆ f64      │\n",
       "│           ┆ f64       ┆ f64       ┆ f64       ┆   ┆ f64       ┆ f64       ┆           ┆          │\n",
       "╞═══════════╪═══════════╪═══════════╪═══════════╪═══╪═══════════╪═══════════╪═══════════╪══════════╡\n",
       "│ 204       ┆ 36.84     ┆ 0.0       ┆ 41.81     ┆ … ┆ 0.0       ┆ 0.0       ┆ 0.0       ┆ 0.0      │\n",
       "│ 201       ┆ 0.0       ┆ 7.45      ┆ 0.0       ┆ … ┆ 0.37      ┆ 0.0       ┆ 26.16     ┆ 8.04     │\n",
       "│ 202       ┆ 3.24      ┆ 25.73     ┆ 13.6      ┆ … ┆ 17.19     ┆ 37.11     ┆ 0.0       ┆ 0.0      │\n",
       "│ 203       ┆ 6.59      ┆ 0.0       ┆ 16.97     ┆ … ┆ 0.0       ┆ 0.0       ┆ 0.0       ┆ 0.0      │\n",
       "└───────────┴───────────┴───────────┴───────────┴───┴───────────┴───────────┴───────────┴──────────┘"
      ]
     },
     "execution_count": 22,
     "metadata": {},
     "output_type": "execute_result"
    }
   ],
   "source": [
    "df[\"Health\"]"
   ]
  }
 ],
 "metadata": {
  "kernelspec": {
   "display_name": ".venv",
   "language": "python",
   "name": "python3"
  },
  "language_info": {
   "codemirror_mode": {
    "name": "ipython",
    "version": 3
   },
   "file_extension": ".py",
   "mimetype": "text/x-python",
   "name": "python",
   "nbconvert_exporter": "python",
   "pygments_lexer": "ipython3",
   "version": "3.10.17"
  }
 },
 "nbformat": 4,
 "nbformat_minor": 2
}
