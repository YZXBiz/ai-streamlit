{
 "cells": [
  {
   "cell_type": "markdown",
   "id": "6f062fcd-ec5a-4d49-bc48-42c6ea921bd6",
   "metadata": {},
   "source": [
    "# Dependencies"
   ]
  },
  {
   "cell_type": "code",
   "execution_count": 3,
   "id": "89cae9eb-bc18-4a7c-82d7-ed5fff398cf9",
   "metadata": {},
   "outputs": [
    {
     "name": "stdout",
     "output_type": "stream",
     "text": [
      "Inside config.py slfsvc-twa07\n",
      "printing snowflake connection dic {'tenant': 'fabb61b8-3afe-4e75-b934-a47f782b8cd7', 'client_id': '5617df5a-e4aa-4898-8260-9ac51b67e1c0', 'akssecret': 'prod-fspe-sp-secret', 'vault': 'kv-rtlfspekv0701slfsvc07', 'sfsecretkey': 'sfkey', 'sfkeypass': 'sfpasskey'}\n",
      "Initiating azcopy login\n",
      "az login succeeded\n"
     ]
    }
   ],
   "source": [
    "# %pip install fsutils --user\n",
    "import pandas as pd\n",
    "import numpy as np\n",
    "import time\n",
    "import logging\n",
    "import itertools as it\n",
    "import argparse\n",
    "import os\n",
    "import time\n",
    "from pathlib import Path\n",
    "from scipy.sparse import csr_matrix\n",
    "from scipy.sparse.linalg import svds\n",
    "from scipy.spatial import distance\n",
    "from pandas.api.types import CategoricalDtype\n",
    "from sklearn.metrics.pairwise import cosine_similarity, euclidean_distances\n",
    "from fsutils import run_sf_sql as rp, config, email, adls_gen2, log\n",
    "\n",
    "# from utils.utils import worker_output_table_validation\n",
    "from multiprocessing import Pool, freeze_support\n",
    "from snowflake.connector.connection import SnowflakeConnection, SnowflakeCursor\n",
    "from snowflake.connector.pandas_tools import write_pandas\n",
    "from sklearn.preprocessing import StandardScaler\n",
    "from sklearn.decomposition import PCA\n",
    "import matplotlib.pyplot as plt\n",
    "import seaborn as sns\n",
    "import numpy as np\n",
    "# from pandasql import sqldf\n",
    "from sklearn.cluster import KMeans, AgglomerativeClustering, DBSCAN\n",
    "from sklearn.metrics import calinski_harabasz_score, silhouette_score\n",
    "from sklearn.compose import ColumnTransformer\n",
    "from sklearn.decomposition import PCA\n",
    "\n",
    "# Pandas Display Settings\n",
    "pd.set_option('display.max_rows', 100)  # Show all rows\n",
    "pd.set_option('display.max_columns', None)  # Show all columns\n",
    "pd.set_option('display.width', None)  # Set width to None to avoid wrapping"
   ]
  },
  {
   "cell_type": "code",
   "execution_count": 4,
   "id": "66df5b49-1284-44b1-96dd-eea7e48d0306",
   "metadata": {},
   "outputs": [
    {
     "name": "stdout",
     "output_type": "stream",
     "text": [
      "Inside config.py slfsvc-twa07\n",
      "printing snowflake connection dic {'SF_USER_NAME': 'sa_slfsvc_fsca_app_twa_07', 'SF_ACCOUNT': 'cvsfrontstore.east-us-2.privatelink', 'SF_WAREHOUSE': 'WH_FSCA_TWA07_XL_BATCH', 'SF_USER_ROLE': 'ROLE_FSCA_TWA07_BATCH_FR', 'SF_DB': 'CORE_FS', 'SF_AUDIT_SCHEMA': 'WORK_FS'}\n",
      "printing sfparms {'SF_USER_NAME': 'sa_slfsvc_fsca_app_twa_07', 'SF_ACCOUNT': 'cvsfrontstore.east-us-2.privatelink', 'SF_WAREHOUSE': 'WH_FSCA_TWA07_XL_BATCH', 'SF_USER_ROLE': 'ROLE_FSCA_TWA07_BATCH_FR', 'SF_DB': 'CORE_FS', 'SF_AUDIT_SCHEMA': 'WORK_FS'}\n",
      "2025-04-14 16:36:30,469 - fsutils.run_sf_sql - INFO - Establishing Snowflake Connection\n",
      "Getting snowflake key file from Azure Key Vault\n",
      "Getting snowflake key pass from Azure Key Vault\n",
      "2025-04-14 16:36:58,967 - fsutils.run_sf_sql - INFO -  Getting Snowflake Cursor\n",
      "2025-04-14 16:36:58,968 - fsutils.run_sf_sql - INFO - Got the cursor\n"
     ]
    }
   ],
   "source": [
    "conn, _=rp.get_connection(\"notebook-xlarge\")"
   ]
  },
  {
   "cell_type": "code",
   "execution_count": 5,
   "id": "4a10d1bc-fc41-4867-9224-d3519f0d08c0",
   "metadata": {},
   "outputs": [],
   "source": [
    "# Put your excluded store IDs into a Python list\n",
    "excluded_stores = [\n",
    "    4615, 1967, 2064, 2280, 2433, 2437, 2724, 464, 478, 509, 867, 955, 1084, 1113,\n",
    "    1220, 1243, 10289, 5855, 5980, 7400, 8940, 8969, 9106, 9107, 3121, 3226, 3236,\n",
    "    3250, 3296, 3315, 3327, 3351, 3401, 3443, 3570, 3610, 3650, 3655, 3704, 3705,\n",
    "    3706, 3722, 3737, 3756, 3811, 3921, 3956, 4032, 4072, 4701, 5010, 5040, 5041,\n",
    "    5118, 5127, 5136, 5147, 5154, 5233,\n",
    "    113, 2379, 402, 476, 536, 538, 554, 564, 2897, 591, 637, 866, 925, 931, 932,\n",
    "    976, 981, 1126, 1127, 1136,\n",
    "    5783, 5924, 6002, 6732, 7131, 7133, 7897, 7973, 8000, 8378, 10915, 3153, 3986,\n",
    "    4019, 4065, 4789, 4792, 5022, 5499, 2768, 2944, 2963, 3033, 3056, 3061, 3078,\n",
    "    10807, 5775, 5792, 5834, 5841, 5945, 6755, 6772, 7001, 7088, 7127, 7860, 8439,\n",
    "    8778, 8781, 8800, 8803, 8808, 8819, 8824, 8825, 8831, 8840, 8841, 8849, 8854,\n",
    "    8855, 8857, 8858, 8859, 8860, 8865, 8867, 8870, 8874, 8875, 8889, 8892, 8897,\n",
    "    8898, 8943, 9104, 9108, 9115, 9121, 9122, 9123, 9138, 9140, 9151, 9186, 9193,\n",
    "    9196, 9240, 9334, 9349, 9371, 9374, 9377, 9488, 9500, 9501, 9507, 9524, 9557,\n",
    "    9574, 9583, 9588, 9589, 9590, 9594, 9596, 9602, 9604, 9609, 9610, 9617, 9619,\n",
    "    9625, 9626, 9629, 9634, 9636, 9637, 9639, 9642, 9651, 9654, 9664, 9665, 9666,\n",
    "    9672, 9673, 9687, 9690, 9695, 9708, 9728, 9735, 9738, 9745, 9750, 9757, 9762,\n",
    "    9771, 9780, 9782, 9783, 9792, 9794, 9796, 9821, 9837, 9845, 9848, 9850, 9857,\n",
    "    9861, 9866, 9871, 9900, 11073, 10931, 1533, 3178, 3693, 4356, 4706, 4732, 4820,\n",
    "    5260, 2701, 213, 1057, 1201, 10412, 10446, 10449, 10485, 5651, 5657, 5857, 5858,\n",
    "    5959, 5970, 5981, 6241, 6665, 6716, 6741, 6742, 6776, 6781, 6786, 6803, 6824, 6847,\n",
    "    6865, 6895, 6979, 6991, 7106, 7149, 7193, 7222, 7231, 7287, 7299, 7306, 7319, 7373,\n",
    "    7403, 7421, 7456, 7664, 7679, 7741, 7748, 7784, 7831, 8389, 10638, 8912, 8962, 8963,\n",
    "    10051, 10073, 10142, 10148, 10215, 10217, 10227, 10946\n",
    "]\n",
    " \n",
    "wave_1_cat = [\n",
    "    \"HOUSEHOLD\",\n",
    "    \"VITAMINS\",\n",
    "    \"ORAL HYGIENE\",\n",
    "    \"BEVERAGES\",\n",
    "    \"PERSONAL CLEANSING\"\n",
    "]\n",
    " \n",
    "wave_2_cat = [\n",
    "    \"HOME DIAGNOSTICS\",\n",
    "    \"BABY CARE\",\n",
    "    \"ALLERGY REMEDIES\",\n",
    "    \"HAND & BODY\",\n",
    "    \"SNACKS\",\n",
    "    \"STATIONERY\"\n",
    "]\n",
    "\n",
    "wave_other = [\n",
    "\n",
    "    # \"SNACKS\",\n",
    "    # \"GROCERY\",\n",
    "    # \"HOME DIAGNOSTICS\",\n",
    "    # \"BABY CARE\",\n",
    "    # \"FACIAL CARE\",\n",
    "    # \"ALLERGY REMEDIES\",\n",
    "    # \"HAND & BODY\",\n",
    "    # \"STATIONERY\",\n",
    "    # \"HOUSEHOLD\",\n",
    "    # \"VITAMINS\",\n",
    "    # \"ORAL HYGIENE\",\n",
    "    # \"BEVERAGES\",\n",
    "    # \"PERSONAL CLEANSING\",\n",
    "    # \"CHILDRENS REMEDIES\",\n",
    "    # \"ADULT CARE\",\n",
    "    # \"SHAVING NEEDS\",\n",
    "    # \"ORAL HYGIENE\",\n",
    "    # \"HAND & BODY\",\n",
    "    # \"HOME DIAGNOSTICS\",\n",
    "    # \"PERSONAL CLEANSING\",\n",
    "    # \"ACNE/HSC\",\n",
    "    # \"DIET/NUTRITION\",\n",
    "    # \"DIGESTIVE HEALTH\",\n",
    "    # \"COLD REMEDIES\",\n",
    "    # \"SHAVING NEEDS\",\n",
    "    # \"FACIAL CARE\",\n",
    "    # \"EXTERNAL PAIN\"\n",
    "    \n",
    "# \"ALLERGY REMEDIES\",\n",
    "#     \"ADULT CARE\",\n",
    "# \"FIRST AID\",\n",
    "#     \"DIGESTIVE HEALTH\",\n",
    "#     \"EXTERNAL PAIN\",\n",
    "#     \"DIET/NUTRITION\",\n",
    "#     \"STATIONERY\",\n",
    "#     \"BEVERAGES\",\n",
    "#     \"CHILDRENS REMEDIES\",\n",
    "#     \"COLD REMEDIES\"\n",
    "\n",
    "# \"GROCERY\",\n",
    "# \"HAIR CARE\",\n",
    "\"CANDY\",\n",
    "# \"TRIAL TRAVEL\",\n",
    "# \"DEODORANT\"\n",
    "# \"DEODORANTS\",\n",
    "# \"STATIONERY\"\n",
    "# \"FEMININE CARE\",\n",
    "# \"TRIAL TRAVEL\",\n",
    "# \"ORAL HYGIENE\",\n",
    "# \"HAIR COLOR\"\n",
    "# \"EXTERNAL PAIN\", \n",
    "# \"SNACKS\",\n",
    "# \"VITAMINS\",\n",
    "# \"GROCERY\"\n",
    "# \"ADULT CARE\",\n",
    "# \"FEMININE CARE\",\n",
    "# \"DEODORANTS\",\n",
    "# \"FIRST AID\"\n",
    "# \"HOUSEHOLD PAPER\",\n",
    "# \"ORAL HYGIENE\",\n",
    "# \"COLD BEVERAGES\"  \n",
    "# \"COLD REMEDIES\", \n",
    "# \"BEVERAGES\"  \n",
    "    \n",
    "# \"ADULT CARE\",\n",
    "# \"COLD REMEDIES\",\n",
    "# \"HAIR COLOR\",\n",
    "# \"DEODORANTS\",\n",
    "# \"TEXTURED HAIR\",\n",
    "# \"STATIONERY\", \n",
    "# \"SNACKS\"\n",
    "\n",
    "# \"DIGESTIVE HEALTH\",\n",
    "# \"TRIAL TRAVEL\",\n",
    "# \"FIRST AID\",\n",
    "]\n",
    " \n",
    "# Convert the store list into a comma-separated string (no quotes needed for numeric IDs)\n",
    "excluded_stores_str = \", \".join(str(store) for store in excluded_stores)\n",
    " \n",
    "# Convert the category lists into comma-separated strings with each category in quotes\n",
    "wave_1_cat_str = \", \".join(f\"'{cat}'\" for cat in wave_1_cat)\n",
    "wave_2_cat_str = \", \".join(f\"'{cat}'\" for cat in wave_2_cat)\n",
    "wave_other_str = \", \".join(f\"'{cat}'\" for cat in wave_other)\n",
    "\n",
    "# Example: below we only query Wave 1 categories. \n",
    "# If you need both Wave 1 and Wave 2, you can either:\n",
    "#   1) Use OR: AND (cat_dsc IN ({wave_1_cat_str}) OR cat_dsc IN ({wave_2_cat_str}))\n",
    "#   2) Combine the two lists into one wave_12_cat = wave_1_cat + wave_2_cat\n",
    "SQL_QUERY_TXN = f\"\"\"\n",
    "SELECT \n",
    "    S.SKU_NBR,\n",
    "    S.STORE_NBR, \n",
    "    S.CAT_DSC,\n",
    "    S.TOTAL_SALES,\n",
    "    NS.NEED_STATE\n",
    "FROM \n",
    "    DL_FSCA_SLFSRV.TWA07.c830557_localization_last_yr_sales AS S\n",
    "INNER JOIN \n",
    "    DL_FSCA_SLFSRV.TWA07.NEED_STATES_20250414_AM AS NS\n",
    "    ON S.SKU_NBR = NS.\"PRODUCT_ID\"\n",
    "WHERE \n",
    "    state_cd NOT IN ('HI','PR')\n",
    "    AND facility_typ_dsc = 'Retail CVS/pharmacy'\n",
    "    AND str_actv_flg = 'ACTIVE'\n",
    "    AND cat_dsc != 'COMPANY DEFAULT'\n",
    "    AND total_sales > 0\n",
    "    AND retail_sq_ft > 0\n",
    "    AND cat_dsc IN ({wave_other_str})\n",
    "    AND S.store_nbr NOT IN ({excluded_stores_str});\n",
    "\"\"\"\n",
    " \n",
    "# Read into a DataFrame\n",
    "df_need_states = pd.read_sql(SQL_QUERY_TXN, conn)\n",
    " \n",
    "# If needed, you can save to Parquet (optional)\n",
    "# df_need_states.to_parquet(\"/home/jovyan/older code/notebooks/need_states_sales_31012025.parquet\", index=False)\n"
   ]
  },
  {
   "cell_type": "code",
   "execution_count": 6,
   "id": "82dcb193-5984-47dd-9819-0d8768134935",
   "metadata": {},
   "outputs": [],
   "source": [
    "assert df_need_states.duplicated().sum() == 0, \"duplicated values found\""
   ]
  },
  {
   "cell_type": "code",
   "execution_count": 7,
   "id": "684c30d3-f9d0-4782-b9c0-e62081f8d01f",
   "metadata": {},
   "outputs": [
    {
     "data": {
      "text/plain": [
       "(4464920, 5)"
      ]
     },
     "execution_count": 7,
     "metadata": {},
     "output_type": "execute_result"
    }
   ],
   "source": [
    "df_need_states.shape"
   ]
  },
  {
   "cell_type": "code",
   "execution_count": 8,
   "id": "46a0b8ff-1db7-40c3-8d3f-d6dd4a843ad5",
   "metadata": {},
   "outputs": [
    {
     "data": {
      "text/plain": [
       "array(['CANDY'], dtype=object)"
      ]
     },
     "execution_count": 8,
     "metadata": {},
     "output_type": "execute_result"
    }
   ],
   "source": [
    "df_need_states['CAT_DSC'].unique()"
   ]
  },
  {
   "cell_type": "code",
   "execution_count": 9,
   "id": "7193751c-fece-4cdd-b58c-8d697b12a94c",
   "metadata": {},
   "outputs": [
    {
     "data": {
      "text/plain": [
       "1"
      ]
     },
     "execution_count": 9,
     "metadata": {},
     "output_type": "execute_result"
    }
   ],
   "source": [
    "df_need_states['CAT_DSC'].nunique()"
   ]
  },
  {
   "cell_type": "code",
   "execution_count": 10,
   "id": "8b037471-584c-4fc9-879e-ea773ec9496e",
   "metadata": {},
   "outputs": [
    {
     "data": {
      "text/html": [
       "<div>\n",
       "<style scoped>\n",
       "    .dataframe tbody tr th:only-of-type {\n",
       "        vertical-align: middle;\n",
       "    }\n",
       "\n",
       "    .dataframe tbody tr th {\n",
       "        vertical-align: top;\n",
       "    }\n",
       "\n",
       "    .dataframe thead th {\n",
       "        text-align: right;\n",
       "    }\n",
       "</style>\n",
       "<table border=\"1\" class=\"dataframe\">\n",
       "  <thead>\n",
       "    <tr style=\"text-align: right;\">\n",
       "      <th></th>\n",
       "      <th>SKU_NBR</th>\n",
       "      <th>STORE_NBR</th>\n",
       "      <th>CAT_DSC</th>\n",
       "      <th>TOTAL_SALES</th>\n",
       "      <th>NEED_STATE</th>\n",
       "    </tr>\n",
       "  </thead>\n",
       "  <tbody>\n",
       "  </tbody>\n",
       "</table>\n",
       "</div>"
      ],
      "text/plain": [
       "Empty DataFrame\n",
       "Columns: [SKU_NBR, STORE_NBR, CAT_DSC, TOTAL_SALES, NEED_STATE]\n",
       "Index: []"
      ]
     },
     "execution_count": 10,
     "metadata": {},
     "output_type": "execute_result"
    }
   ],
   "source": [
    "df_need_states.query(\"NEED_STATE == 'light_bladder_leakage_-_fem_care_3'\")"
   ]
  },
  {
   "cell_type": "code",
   "execution_count": 11,
   "id": "943514ae-19e6-4e6c-ab24-afc28a1b96ce",
   "metadata": {},
   "outputs": [],
   "source": [
    "import pandas as pd\n",
    " \n",
    "# 1. Identify the columns we need to group on (all except NEED_STATE)\n",
    "group_cols = [col for col in df_need_states.columns if col != 'NEED_STATE']\n",
    " \n",
    "# 2. Find the size of each group that shares everything but NEED_STATE\n",
    "df_need_states['group_count'] = df_need_states.groupby(group_cols)['NEED_STATE'].transform('count')\n",
    " \n",
    "# 3. Create the TOTAL_SALES_FINAL column\n",
    "df_need_states['TOTAL_SALES_FINAL'] = df_need_states['TOTAL_SALES'] / df_need_states['group_count']\n",
    " \n",
    "# 4. Optionally, drop the helper column\n",
    "# df_need_states.drop(columns='group_count', inplace=True)\n"
   ]
  },
  {
   "cell_type": "code",
   "execution_count": 12,
   "id": "a977aee3-fae8-4503-8931-c739ae52bd6a",
   "metadata": {},
   "outputs": [
    {
     "data": {
      "text/plain": [
       "array(['CANDY'], dtype=object)"
      ]
     },
     "execution_count": 12,
     "metadata": {},
     "output_type": "execute_result"
    }
   ],
   "source": [
    "df_need_states['CAT_DSC'].unique()"
   ]
  },
  {
   "cell_type": "code",
   "execution_count": 13,
   "id": "2ac73dba-d519-46ca-a80c-595a883e9749",
   "metadata": {},
   "outputs": [
    {
     "data": {
      "text/html": [
       "<div>\n",
       "<style scoped>\n",
       "    .dataframe tbody tr th:only-of-type {\n",
       "        vertical-align: middle;\n",
       "    }\n",
       "\n",
       "    .dataframe tbody tr th {\n",
       "        vertical-align: top;\n",
       "    }\n",
       "\n",
       "    .dataframe thead th {\n",
       "        text-align: right;\n",
       "    }\n",
       "</style>\n",
       "<table border=\"1\" class=\"dataframe\">\n",
       "  <thead>\n",
       "    <tr style=\"text-align: right;\">\n",
       "      <th></th>\n",
       "      <th>SKU_NBR</th>\n",
       "      <th>STORE_NBR</th>\n",
       "      <th>CAT_DSC</th>\n",
       "      <th>NEED_STATE</th>\n",
       "      <th>TOTAL_SALES</th>\n",
       "    </tr>\n",
       "  </thead>\n",
       "  <tbody>\n",
       "    <tr>\n",
       "      <th>0</th>\n",
       "      <td>963577</td>\n",
       "      <td>7826</td>\n",
       "      <td>CANDY</td>\n",
       "      <td>mainline_candy_and_premium_chocolate_40</td>\n",
       "      <td>87.48</td>\n",
       "    </tr>\n",
       "    <tr>\n",
       "      <th>1</th>\n",
       "      <td>355361</td>\n",
       "      <td>651</td>\n",
       "      <td>CANDY</td>\n",
       "      <td>mainline_candy_and_premium_chocolate_56</td>\n",
       "      <td>78.37</td>\n",
       "    </tr>\n",
       "    <tr>\n",
       "      <th>2</th>\n",
       "      <td>127849</td>\n",
       "      <td>2066</td>\n",
       "      <td>CANDY</td>\n",
       "      <td>checkout_gum_+_mint_8</td>\n",
       "      <td>222.14</td>\n",
       "    </tr>\n",
       "    <tr>\n",
       "      <th>3</th>\n",
       "      <td>263976</td>\n",
       "      <td>7191</td>\n",
       "      <td>CANDY</td>\n",
       "      <td>mainline_candy_and_premium_chocolate_40</td>\n",
       "      <td>181.69</td>\n",
       "    </tr>\n",
       "    <tr>\n",
       "      <th>4</th>\n",
       "      <td>658757</td>\n",
       "      <td>6510</td>\n",
       "      <td>CANDY</td>\n",
       "      <td>checkout_gum_+_mint_2</td>\n",
       "      <td>171.46</td>\n",
       "    </tr>\n",
       "  </tbody>\n",
       "</table>\n",
       "</div>"
      ],
      "text/plain": [
       "   SKU_NBR  STORE_NBR CAT_DSC                               NEED_STATE  \\\n",
       "0   963577       7826   CANDY  mainline_candy_and_premium_chocolate_40   \n",
       "1   355361        651   CANDY  mainline_candy_and_premium_chocolate_56   \n",
       "2   127849       2066   CANDY                    checkout_gum_+_mint_8   \n",
       "3   263976       7191   CANDY  mainline_candy_and_premium_chocolate_40   \n",
       "4   658757       6510   CANDY                    checkout_gum_+_mint_2   \n",
       "\n",
       "   TOTAL_SALES  \n",
       "0        87.48  \n",
       "1        78.37  \n",
       "2       222.14  \n",
       "3       181.69  \n",
       "4       171.46  "
      ]
     },
     "execution_count": 13,
     "metadata": {},
     "output_type": "execute_result"
    }
   ],
   "source": [
    "df_need_states_final = df_need_states[['SKU_NBR','STORE_NBR','CAT_DSC','NEED_STATE','TOTAL_SALES_FINAL']]\n",
    "df_need_states_final.columns = ['SKU_NBR','STORE_NBR','CAT_DSC','NEED_STATE','TOTAL_SALES']\n",
    "df_need_states_final.head()"
   ]
  },
  {
   "cell_type": "code",
   "execution_count": 14,
   "id": "d767c07f-e7d5-4962-ad80-3e05ff1c3c90",
   "metadata": {},
   "outputs": [
    {
     "data": {
      "text/plain": [
       "766765764.7699995"
      ]
     },
     "execution_count": 14,
     "metadata": {},
     "output_type": "execute_result"
    }
   ],
   "source": [
    "df_need_states_final['TOTAL_SALES'].sum()\n",
    "\n",
    "# 1,225,607,239.1799994\n",
    "# 5,455,114,113.560007\n",
    "# 692,326,367.4799997\n",
    "# 4,617,713,522.709991\n",
    "# 2,740,143,565.7900066\n",
    "# 2,751,485,934.5999966\n",
    "# 2,745,893,614.490009\n",
    "# 2745893614.4899974\n",
    "# 2718486555.750002 Feb 19\n",
    "# 2718486555.750001 Feb 19 PC fix\n",
    "# 2718486555.750006 Feb 19 OG & Rest\n",
    "# 2718486555.750005 Feb 20\n",
    "# 2718486555.7499933 Feb 25th\n",
    "# 2716673750.6699977 feb 26th\n",
    "#2716673750.669995 feb 27th\n",
    "\n",
    "# Wave 2 sales $1,854,860,922\n",
    "# 1,777,631,228.34 feb 26th\n",
    "# 1949867641.009997 feb 26th St\n",
    "\n",
    "# Other\n",
    "# 1,975,470,542 Mar 3rd\n",
    "\n",
    "# Mar 27th 3,815,090,818"
   ]
  },
  {
   "cell_type": "code",
   "execution_count": 15,
   "id": "4644adcf-480a-427b-8100-adb22160cdc9",
   "metadata": {},
   "outputs": [
    {
     "data": {
      "text/plain": [
       "6888"
      ]
     },
     "execution_count": 15,
     "metadata": {},
     "output_type": "execute_result"
    }
   ],
   "source": [
    "df_need_states_final['STORE_NBR'].nunique()\n",
    "# 6898\n",
    "# 6,890\n",
    "# 6,898\n",
    "# 6,898\n",
    "\n",
    "# Wave 2 stores 6898"
   ]
  },
  {
   "cell_type": "code",
   "execution_count": 16,
   "id": "f1f75859-6d47-40a7-978e-a6ec8e828cc1",
   "metadata": {},
   "outputs": [],
   "source": [
    "# df_need_states_final.query(\"NEED_STATE == 'body_lotion_41'\")"
   ]
  },
  {
   "cell_type": "code",
   "execution_count": 17,
   "id": "60f8d0d1-ece2-4a47-b1bb-c37560b5419d",
   "metadata": {},
   "outputs": [
    {
     "data": {
      "text/plain": [
       "(4464920, 5)"
      ]
     },
     "execution_count": 17,
     "metadata": {},
     "output_type": "execute_result"
    }
   ],
   "source": [
    "df_need_states_final.shape\n",
    "# Mar 17th (28888403, 5) 14 cats"
   ]
  },
  {
   "cell_type": "code",
   "execution_count": 18,
   "id": "7b075dd6-ea52-4546-94d2-ebdfde35be90",
   "metadata": {},
   "outputs": [],
   "source": [
    "# df_need_states_final.query(\"CAT_DSC == 'PERSONAL CLEANSING'\").NEED_STATE.unique()"
   ]
  },
  {
   "cell_type": "code",
   "execution_count": 19,
   "id": "54169a15-9f17-4b23-ab63-b70e0daa74cb",
   "metadata": {},
   "outputs": [],
   "source": [
    "df_need_states_final = df_need_states_final.dropna(subset=['TOTAL_SALES'])"
   ]
  },
  {
   "cell_type": "code",
   "execution_count": 20,
   "id": "023ba09e-fcfd-4392-a8cd-116ae04f3904",
   "metadata": {},
   "outputs": [
    {
     "data": {
      "text/plain": [
       "(4464920, 5)"
      ]
     },
     "execution_count": 20,
     "metadata": {},
     "output_type": "execute_result"
    }
   ],
   "source": [
    "df_need_states_final.shape\n",
    "# (4172014, 5)\n",
    "# (31192266, 5) All Others Mar 7\n",
    "# (41243738, 5) ALL Mar 4th\n",
    "# (24952139, 5) Wave 1 Feb 19th\n",
    "# (18745410, 5) Wave 1 Feb 19th PC fix\n",
    "# (24919068, 5) Wave 1 feb 26th\n",
    "# (24919068, 5) feb 27\n",
    "\n",
    "# Wave 2\n",
    "# (13906073, 5) feb 26th\n",
    "# (16671884, 5) feb 26th St\n",
    "\n",
    "# Other\n",
    "# (28888403, 5) March 17th 14 cat"
   ]
  },
  {
   "cell_type": "code",
   "execution_count": 21,
   "id": "368af4c5-8368-4ac5-a4a0-f3595ef14e47",
   "metadata": {},
   "outputs": [],
   "source": [
    "# df_need_states_final.to_parquet(\"/home/jovyan/older code/notebooks/need_states_sales_20250321.parquet\", index=False)\n",
    "df_need_states_final.to_parquet(\"/home/jovyan/fsassortment/store_clustering/data/need_states_sales_20250414_AM.parquet\", index=False)"
   ]
  },
  {
   "cell_type": "code",
   "execution_count": null,
   "id": "d15d1ba1-4c98-4187-9c64-9255968b991c",
   "metadata": {},
   "outputs": [],
   "source": []
  }
 ],
 "metadata": {
  "kernelspec": {
   "display_name": "Python 3 (ipykernel)",
   "language": "python",
   "name": "python3"
  },
  "language_info": {
   "codemirror_mode": {
    "name": "ipython",
    "version": 3
   },
   "file_extension": ".py",
   "mimetype": "text/x-python",
   "name": "python",
   "nbconvert_exporter": "python",
   "pygments_lexer": "ipython3",
   "version": "3.9.10"
  }
 },
 "nbformat": 4,
 "nbformat_minor": 5
}
