{
 "cells": [
  {
   "cell_type": "code",
   "execution_count": 1,
   "metadata": {},
   "outputs": [
    {
     "ename": "ImportError",
     "evalue": "cannot import name 'build_file_manager' from 'dagster' (/workspaces/testing-dagster/.venv/lib/python3.10/site-packages/dagster/__init__.py)",
     "output_type": "error",
     "traceback": [
      "\u001b[0;31m---------------------------------------------------------------------------\u001b[0m",
      "\u001b[0;31mImportError\u001b[0m                               Traceback (most recent call last)",
      "Cell \u001b[0;32mIn[1], line 3\u001b[0m\n\u001b[1;32m      1\u001b[0m \u001b[38;5;28;01mimport\u001b[39;00m\u001b[38;5;250m \u001b[39m\u001b[38;5;21;01mpickle\u001b[39;00m\n\u001b[0;32m----> 3\u001b[0m \u001b[38;5;28;01mfrom\u001b[39;00m\u001b[38;5;250m \u001b[39m\u001b[38;5;21;01mdagster\u001b[39;00m\u001b[38;5;250m \u001b[39m\u001b[38;5;28;01mimport\u001b[39;00m build_file_manager\n\u001b[1;32m      4\u001b[0m \u001b[38;5;28;01mfrom\u001b[39;00m\u001b[38;5;250m \u001b[39m\u001b[38;5;21;01mdagster\u001b[39;00m\u001b[38;5;21;01m.\u001b[39;00m\u001b[38;5;21;01m_core\u001b[39;00m\u001b[38;5;21;01m.\u001b[39;00m\u001b[38;5;21;01mstorage\u001b[39;00m\u001b[38;5;21;01m.\u001b[39;00m\u001b[38;5;21;01mfile_manager\u001b[39;00m\u001b[38;5;250m \u001b[39m\u001b[38;5;28;01mimport\u001b[39;00m LocalFileHandle\n\u001b[1;32m      6\u001b[0m \u001b[38;5;66;03m# Absolute path to the pickle file\u001b[39;00m\n",
      "\u001b[0;31mImportError\u001b[0m: cannot import name 'build_file_manager' from 'dagster' (/workspaces/testing-dagster/.venv/lib/python3.10/site-packages/dagster/__init__.py)"
     ]
    }
   ],
   "source": [
    "import pickle\n",
    "\n",
    "from dagster import build_file_manager\n",
    "from dagster._core.storage.file_manager import LocalFileHandle\n",
    "\n",
    "# Absolute path to the pickle file\n",
    "file_path = \"/workspaces/testing-dagster/storage/example.pkl\"\n",
    "\n",
    "# Create the file handle\n",
    "file_handle = LocalFileHandle(file_path)\n",
    "\n",
    "# Set up the file manager (base_dir must match the file's root)\n",
    "file_manager = build_file_manager(base_dir=\"/workspaces/testing-dagster/storage\")\n",
    "\n",
    "# Load the pickle file\n",
    "with file_manager.read(file_handle, mode=\"rb\") as f:\n",
    "    data = pickle.load(f)"
   ]
  },
  {
   "cell_type": "code",
   "execution_count": 2,
   "metadata": {},
   "outputs": [],
   "source": [
    "import pandas as pd \n",
    "\n",
    "df = pd.read_pickle(\"/workspaces/testing-dagster/storage/cluster_assignments\")"
   ]
  },
  {
   "cell_type": "code",
   "execution_count": 5,
   "metadata": {},
   "outputs": [
    {
     "data": {
      "text/html": [
       "<div><style>\n",
       ".dataframe > thead > tr,\n",
       ".dataframe > tbody > tr {\n",
       "  text-align: right;\n",
       "  white-space: pre-wrap;\n",
       "}\n",
       "</style>\n",
       "<small>shape: (2, 2)</small><table border=\"1\" class=\"dataframe\"><thead><tr><th>pca0</th><th>Cluster</th></tr><tr><td>f32</td><td>i32</td></tr></thead><tbody><tr><td>1.414214</td><td>0</td></tr><tr><td>-1.414214</td><td>0</td></tr></tbody></table></div>"
      ],
      "text/plain": [
       "shape: (2, 2)\n",
       "┌───────────┬─────────┐\n",
       "│ pca0      ┆ Cluster │\n",
       "│ ---       ┆ ---     │\n",
       "│ f32       ┆ i32     │\n",
       "╞═══════════╪═════════╡\n",
       "│ 1.414214  ┆ 0       │\n",
       "│ -1.414214 ┆ 0       │\n",
       "└───────────┴─────────┘"
      ]
     },
     "execution_count": 5,
     "metadata": {},
     "output_type": "execute_result"
    }
   ],
   "source": [
    "df['PERSONAL CARE']"
   ]
  },
  {
   "cell_type": "code",
   "execution_count": 1,
   "metadata": {},
   "outputs": [],
   "source": [
    "from clustering.utils import get_project_root"
   ]
  },
  {
   "cell_type": "code",
   "execution_count": 2,
   "metadata": {},
   "outputs": [
    {
     "data": {
      "text/plain": [
       "PosixPath('/workspaces/testing-dagster')"
      ]
     },
     "execution_count": 2,
     "metadata": {},
     "output_type": "execute_result"
    }
   ],
   "source": [
    "get_project_root()"
   ]
  }
 ],
 "metadata": {
  "kernelspec": {
   "display_name": ".venv",
   "language": "python",
   "name": "python3"
  },
  "language_info": {
   "codemirror_mode": {
    "name": "ipython",
    "version": 3
   },
   "file_extension": ".py",
   "mimetype": "text/x-python",
   "name": "python",
   "nbconvert_exporter": "python",
   "pygments_lexer": "ipython3",
   "version": "3.10.17"
  }
 },
 "nbformat": 4,
 "nbformat_minor": 2
}
