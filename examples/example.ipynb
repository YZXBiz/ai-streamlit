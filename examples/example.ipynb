{
 "cells": [
  {
   "cell_type": "code",
   "execution_count": 1,
   "metadata": {},
   "outputs": [],
   "source": [
    "#!/usr/bin/env python3\n",
    "\"\"\"\n",
    "Example usage of DuckDBService with LlamaIndex integration.\n",
    "\n",
    "This example demonstrates:\n",
    "1. Loading sample data into DuckDB\n",
    "2. Running SQL queries directly\n",
    "3. Running natural language queries with LlamaIndex integration\n",
    "\"\"\"\n",
    "\n",
    "import pandas as pd\n",
    "\n",
    "from assortment_chatbot.services.duckdb_service import EnhancedDuckDBService\n",
    "\n",
    "\"\"\"Example usage of EnhancedDuckDBService.\"\"\"\n",
    "# Create sample data\n",
    "data = {\n",
    "    \"product\": [\"Laptop\", \"Smartphone\", \"Tablet\", \"Headphones\", \"Monitor\"],\n",
    "    \"category\": [\"Electronics\", \"Electronics\", \"Electronics\", \"Audio\", \"Electronics\"],\n",
    "    \"price\": [1200, 800, 500, 150, 300],\n",
    "    \"stock\": [25, 50, 35, 100, 20],\n",
    "    \"rating\": [4.5, 4.2, 3.9, 4.7, 4.1],\n",
    "}"
   ]
  },
  {
   "cell_type": "code",
   "execution_count": 2,
   "metadata": {},
   "outputs": [
    {
     "name": "stdout",
     "output_type": "stream",
     "text": [
      "Sample data created:\n",
      "      product     category  price  stock  rating\n",
      "0      Laptop  Electronics   1200     25     4.5\n",
      "1  Smartphone  Electronics    800     50     4.2\n",
      "2      Tablet  Electronics    500     35     3.9\n",
      "3  Headphones        Audio    150    100     4.7\n",
      "4     Monitor  Electronics    300     20     4.1\n",
      "--------------------------------------------------\n"
     ]
    }
   ],
   "source": [
    "df = pd.DataFrame(data)\n",
    "print(\"Sample data created:\")\n",
    "print(df.head())\n",
    "print(\"-\" * 50)"
   ]
  },
  {
   "cell_type": "code",
   "execution_count": 3,
   "metadata": {},
   "outputs": [],
   "source": [
    "# Initialize the enhanced DuckDB service (in-memory database)\n",
    "db_service = EnhancedDuckDBService()"
   ]
  },
  {
   "cell_type": "code",
   "execution_count": 4,
   "metadata": {},
   "outputs": [
    {
     "name": "stderr",
     "output_type": "stream",
     "text": [
      "\u001b[32m2025-04-23 02:33:21\u001b[0m | \u001b[1mINFO    \u001b[0m | \u001b[36massortment_chatbot.services.duckdb_service\u001b[0m:\u001b[36m_sync_sqlite_from_duckdb\u001b[0m:\u001b[36m197\u001b[0m - \u001b[1mSynced table products to SQLite for LlamaIndex integration\u001b[0m\n",
      "\u001b[32m2025-04-23 02:33:21\u001b[0m | \u001b[33m\u001b[1mWARNING \u001b[0m | \u001b[36massortment_chatbot.services.duckdb_service\u001b[0m:\u001b[36m_init_query_engines\u001b[0m:\u001b[36m208\u001b[0m - \u001b[33m\u001b[1mNo tables available for query engine initialization\u001b[0m\n",
      "\u001b[32m2025-04-23 02:33:21\u001b[0m | \u001b[1mINFO    \u001b[0m | \u001b[36massortment_chatbot.services.duckdb_service\u001b[0m:\u001b[36minitialize\u001b[0m:\u001b[36m181\u001b[0m - \u001b[1mInitialized LlamaIndex query engines\u001b[0m\n"
     ]
    }
   ],
   "source": [
    "# Load data into the service\n",
    "success = db_service.load_dataframe(df, \"products\")"
   ]
  },
  {
   "cell_type": "code",
   "execution_count": 5,
   "metadata": {},
   "outputs": [
    {
     "name": "stdout",
     "output_type": "stream",
     "text": [
      "\n",
      "Schema information:\n",
      "Tables: ['products']\n",
      "Columns in products: ['product', 'category', 'price', 'stock', 'rating']\n",
      "--------------------------------------------------\n"
     ]
    }
   ],
   "source": [
    "# Get schema information\n",
    "schema_info = db_service.get_schema_info()\n",
    "print(\"\\nSchema information:\")\n",
    "print(f\"Tables: {schema_info['tables']}\")\n",
    "print(f\"Columns in products: {schema_info['columns']['products']}\")\n",
    "print(\"-\" * 50)"
   ]
  },
  {
   "cell_type": "code",
   "execution_count": 6,
   "metadata": {},
   "outputs": [
    {
     "name": "stdout",
     "output_type": "stream",
     "text": [
      "\n",
      "Running direct SQL query:\n",
      "SQL: SELECT * FROM products WHERE price > 500 ORDER BY price DESC\n",
      "      product     category  price  stock  rating\n",
      "0      Laptop  Electronics   1200     25     4.5\n",
      "1  Smartphone  Electronics    800     50     4.2\n",
      "--------------------------------------------------\n"
     ]
    }
   ],
   "source": [
    "# Direct SQL query\n",
    "print(\"\\nRunning direct SQL query:\")\n",
    "sql_query = \"SELECT * FROM products WHERE price > 500 ORDER BY price DESC\"\n",
    "print(f\"SQL: {sql_query}\")\n",
    "results = db_service.execute_query(sql_query)\n",
    "print(results)\n",
    "print(\"-\" * 50)"
   ]
  },
  {
   "cell_type": "code",
   "execution_count": 8,
   "metadata": {},
   "outputs": [
    {
     "name": "stdout",
     "output_type": "stream",
     "text": [
      "\n",
      "Running natural language queries:\n",
      "\n",
      "Question: What is the most expensive product?\n"
     ]
    }
   ],
   "source": [
    "# Natural language query using LlamaIndex integration\n",
    "print(\"\\nRunning natural language queries:\")\n",
    "\n",
    "# Simple query\n",
    "nl_query = \"What is the most expensive product?\"\n",
    "print(f\"\\nQuestion: {nl_query}\")\n",
    "result = db_service.process_query(\n",
    "    query=nl_query, query_type=\"natural_language\", complexity=\"simple\"\n",
    ")"
   ]
  },
  {
   "cell_type": "code",
   "execution_count": 9,
   "metadata": {},
   "outputs": [
    {
     "data": {
      "text/plain": [
       "{'success': False,\n",
       " 'error': 'LlamaIndex query engines not initialized. Please load data first.',\n",
       " 'query_type': 'natural_language'}"
      ]
     },
     "execution_count": 9,
     "metadata": {},
     "output_type": "execute_result"
    }
   ],
   "source": [
    "result"
   ]
  },
  {
   "cell_type": "code",
   "execution_count": null,
   "metadata": {},
   "outputs": [],
   "source": [
    "# More complex query\n",
    "nl_query = \"What is the average price of electronics products with rating above 4?\"\n",
    "print(f\"\\nQuestion: {nl_query}\")\n",
    "result = db_service.process_query(\n",
    "    query=nl_query, query_type=\"natural_language\", complexity=\"advanced\"\n",
    ")\n",
    "\n",
    "if result[\"success\"]:\n",
    "    print(f\"Answer: {result['data']}\")\n",
    "    print(f\"Generated SQL: {result['sql_query']}\")\n",
    "else:\n",
    "    print(f\"Error: {result.get('error', 'Unknown error')}\")"
   ]
  }
 ],
 "metadata": {
  "kernelspec": {
   "display_name": ".venv",
   "language": "python",
   "name": "python3"
  },
  "language_info": {
   "codemirror_mode": {
    "name": "ipython",
    "version": 3
   },
   "file_extension": ".py",
   "mimetype": "text/x-python",
   "name": "python",
   "nbconvert_exporter": "python",
   "pygments_lexer": "ipython3",
   "version": "3.10.17"
  }
 },
 "nbformat": 4,
 "nbformat_minor": 2
}
